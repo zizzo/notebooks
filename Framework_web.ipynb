{
 "cells": [
  {
   "cell_type": "markdown",
   "metadata": {},
   "source": [
    "<html><head>\n",
    "\n",
    "\n",
    "<!-- Load require.js. Delete this if your page already loads require.js -->\n",
    "<script src=\"https://cdnjs.cloudflare.com/ajax/libs/require.js/2.3.4/require.min.js\" integrity=\"sha256-Ae2Vz/4ePdIu6ZyI/5ZGsYnb+m0JlOmKPjt6XZ9JJkA=\" crossorigin=\"anonymous\"></script>\n",
    "<script src=\"https://unpkg.com/@jupyter-widgets/html-manager@*/dist/embed-amd.js\" crossorigin=\"anonymous\"></script>\n",
    "<script type=\"application/vnd.jupyter.widget-state+json\">\n",
    "{\n",
    "    \"version_major\": 2,\n",
    "    \"version_minor\": 0,\n",
    "    \"state\": {\n",
    "        \"111107664660493291a1d7d9f3bc4d83\": {\n",
    "            \"model_name\": \"LayoutModel\",\n",
    "            \"model_module\": \"@jupyter-widgets/base\",\n",
    "            \"model_module_version\": \"1.2.0\",\n",
    "            \"state\": {}\n",
    "        },\n",
    "        \"a0e96475ebe3419db44ef99eb1f98e9e\": {\n",
    "            \"model_name\": \"DescriptionStyleModel\",\n",
    "            \"model_module\": \"@jupyter-widgets/controls\",\n",
    "            \"model_module_version\": \"1.5.0\",\n",
    "            \"state\": {\n",
    "                \"description_width\": \"\"\n",
    "            }\n",
    "        },\n",
    "        \"794ca1d0cf48412182793c61ec09292a\": {\n",
    "            \"model_name\": \"TextModel\",\n",
    "            \"model_module\": \"@jupyter-widgets/controls\",\n",
    "            \"model_module_version\": \"1.5.0\",\n",
    "            \"state\": {\n",
    "                \"layout\": \"IPY_MODEL_111107664660493291a1d7d9f3bc4d83\",\n",
    "                \"style\": \"IPY_MODEL_a0e96475ebe3419db44ef99eb1f98e9e\",\n",
    "                \"value\": \"test\"\n",
    "            }\n",
    "        }\n",
    "    }\n",
    "}\n",
    "</script>\n",
    "</head>\n",
    "<body>\n",
    "\n",
    "<script type=\"application/vnd.jupyter.widget-view+json\">\n",
    "{\n",
    "    \"version_major\": 2,\n",
    "    \"version_minor\": 0,\n",
    "    \"model_id\": \"794ca1d0cf48412182793c61ec09292a\"\n",
    "}\n",
    "</script>\n",
    "\n",
    "</body>\n",
    "</html>\n"
   ]
  },
  {
   "cell_type": "code",
   "execution_count": 349,
   "metadata": {},
   "outputs": [],
   "source": [
    "from ipywidgets import widgets, interact\n",
    "from IPython.display import display, clear_output\n",
    "import plotly.graph_objects as go\n",
    "import plotly.io as pio\n",
    "from plotly.subplots import make_subplots"
   ]
  },
  {
   "cell_type": "code",
   "execution_count": 350,
   "metadata": {},
   "outputs": [],
   "source": [
    "#ev_enablers_score=0\n",
    "max_ev_enablers_score=40\n",
    "#rev_enablers_score=0\n",
    "max_rev_enablers_score=20\n",
    "\n",
    "#ev_goals_score=0\n",
    "max_ev_goals_score=55\n",
    "#rev_goals_score=0\n",
    "max_rev_goals_score=20\n",
    "\n",
    "max_eb=300\n",
    "max_ib=500\n",
    "\n",
    "pio.templates.default = \"plotly_white\""
   ]
  },
  {
   "cell_type": "code",
   "execution_count": 351,
   "metadata": {},
   "outputs": [
    {
     "data": {
      "application/vnd.jupyter.widget-view+json": {
       "model_id": "db38d8370dca442cb1b2bad8850f8f80",
       "version_major": 2,
       "version_minor": 0
      },
      "text/plain": [
       "Textarea(value='Question1', disabled=True, placeholder='Type something')"
      ]
     },
     "metadata": {},
     "output_type": "display_data"
    },
    {
     "data": {
      "application/vnd.jupyter.widget-view+json": {
       "model_id": "7f561350a85f4b8abe3a01f779c1b562",
       "version_major": 2,
       "version_minor": 0
      },
      "text/plain": [
       "RadioButtons(index=1, layout=Layout(width='max-content'), options=(0, 1, 2, 3, 4, 5), value=1)"
      ]
     },
     "metadata": {},
     "output_type": "display_data"
    },
    {
     "data": {
      "application/vnd.jupyter.widget-view+json": {
       "model_id": "48d534316a8d4932966b25fd403f6403",
       "version_major": 2,
       "version_minor": 0
      },
      "text/plain": [
       "Textarea(value='Question2a', disabled=True, placeholder='Type something')"
      ]
     },
     "metadata": {},
     "output_type": "display_data"
    },
    {
     "data": {
      "application/vnd.jupyter.widget-view+json": {
       "model_id": "da4ee2c059bf444bad4be80c072b5feb",
       "version_major": 2,
       "version_minor": 0
      },
      "text/plain": [
       "RadioButtons(index=1, layout=Layout(width='max-content'), options=(0, 1, 2, 3, 4, 5), value=1)"
      ]
     },
     "metadata": {},
     "output_type": "display_data"
    },
    {
     "data": {
      "application/vnd.jupyter.widget-view+json": {
       "model_id": "7d7fe7b237854ecd8397d26896f9d342",
       "version_major": 2,
       "version_minor": 0
      },
      "text/plain": [
       "Textarea(value='Question2b', disabled=True, placeholder='Type something')"
      ]
     },
     "metadata": {},
     "output_type": "display_data"
    },
    {
     "data": {
      "application/vnd.jupyter.widget-view+json": {
       "model_id": "0a8b50536d064331b0e24f83f471add4",
       "version_major": 2,
       "version_minor": 0
      },
      "text/plain": [
       "RadioButtons(index=1, layout=Layout(width='max-content'), options=(0, 1, 2, 3, 4, 5), value=1)"
      ]
     },
     "metadata": {},
     "output_type": "display_data"
    },
    {
     "data": {
      "application/vnd.jupyter.widget-view+json": {
       "model_id": "26823e1cd67e416e9f7d31a73948fe5f",
       "version_major": 2,
       "version_minor": 0
      },
      "text/plain": [
       "Textarea(value='Question3', disabled=True, placeholder='Type something')"
      ]
     },
     "metadata": {},
     "output_type": "display_data"
    },
    {
     "data": {
      "application/vnd.jupyter.widget-view+json": {
       "model_id": "392f9563f65646f3ac380a9f4fb7c7b4",
       "version_major": 2,
       "version_minor": 0
      },
      "text/plain": [
       "RadioButtons(index=1, layout=Layout(width='max-content'), options=(0, 1, 2, 3, 4, 5), value=1)"
      ]
     },
     "metadata": {},
     "output_type": "display_data"
    },
    {
     "data": {
      "application/vnd.jupyter.widget-view+json": {
       "model_id": "e1fd78f07547429ea8ca6617fefd4756",
       "version_major": 2,
       "version_minor": 0
      },
      "text/plain": [
       "Textarea(value='Question4', disabled=True, placeholder='Type something')"
      ]
     },
     "metadata": {},
     "output_type": "display_data"
    },
    {
     "data": {
      "application/vnd.jupyter.widget-view+json": {
       "model_id": "b565a1d020f54ef895c995514c328ff4",
       "version_major": 2,
       "version_minor": 0
      },
      "text/plain": [
       "RadioButtons(index=1, layout=Layout(width='max-content'), options=(0, 1, 2, 3, 4, 5), value=1)"
      ]
     },
     "metadata": {},
     "output_type": "display_data"
    },
    {
     "data": {
      "application/vnd.jupyter.widget-view+json": {
       "model_id": "e0563d1c7548451293adcb16583d0347",
       "version_major": 2,
       "version_minor": 0
      },
      "text/plain": [
       "Textarea(value='Question5a', disabled=True, placeholder='Type something')"
      ]
     },
     "metadata": {},
     "output_type": "display_data"
    },
    {
     "data": {
      "application/vnd.jupyter.widget-view+json": {
       "model_id": "90a792ea36a0454298ad35fe1b667f15",
       "version_major": 2,
       "version_minor": 0
      },
      "text/plain": [
       "RadioButtons(index=1, layout=Layout(width='max-content'), options=(0, 1, 2, 3, 4, 5), value=1)"
      ]
     },
     "metadata": {},
     "output_type": "display_data"
    },
    {
     "data": {
      "application/vnd.jupyter.widget-view+json": {
       "model_id": "5580178c47b440dbb7669957a649bacc",
       "version_major": 2,
       "version_minor": 0
      },
      "text/plain": [
       "Textarea(value='Question5b', disabled=True, placeholder='Type something')"
      ]
     },
     "metadata": {},
     "output_type": "display_data"
    },
    {
     "data": {
      "application/vnd.jupyter.widget-view+json": {
       "model_id": "1cf289b0bdd8447c879335ef35e9ce97",
       "version_major": 2,
       "version_minor": 0
      },
      "text/plain": [
       "RadioButtons(index=1, layout=Layout(width='max-content'), options=(0, 1, 2, 3, 4, 5), value=1)"
      ]
     },
     "metadata": {},
     "output_type": "display_data"
    },
    {
     "data": {
      "application/vnd.jupyter.widget-view+json": {
       "model_id": "8dad41bb86104f80afab5c325eb380c8",
       "version_major": 2,
       "version_minor": 0
      },
      "text/plain": [
       "Textarea(value='Question6a', disabled=True, placeholder='Type something')"
      ]
     },
     "metadata": {},
     "output_type": "display_data"
    },
    {
     "data": {
      "application/vnd.jupyter.widget-view+json": {
       "model_id": "638f4c3708db4e3e87867547e74e9905",
       "version_major": 2,
       "version_minor": 0
      },
      "text/plain": [
       "RadioButtons(index=1, layout=Layout(width='max-content'), options=(0, 1, 2, 3, 4, 5), value=1)"
      ]
     },
     "metadata": {},
     "output_type": "display_data"
    },
    {
     "data": {
      "application/vnd.jupyter.widget-view+json": {
       "model_id": "ced0a96b764545d791a5626349b110a2",
       "version_major": 2,
       "version_minor": 0
      },
      "text/plain": [
       "Textarea(value='Question6b', disabled=True, placeholder='Type something')"
      ]
     },
     "metadata": {},
     "output_type": "display_data"
    },
    {
     "data": {
      "application/vnd.jupyter.widget-view+json": {
       "model_id": "8373025dcb944d2297c679ce4316734e",
       "version_major": 2,
       "version_minor": 0
      },
      "text/plain": [
       "RadioButtons(index=1, layout=Layout(width='max-content'), options=(0, 1, 2, 3, 4, 5), value=1)"
      ]
     },
     "metadata": {},
     "output_type": "display_data"
    },
    {
     "data": {
      "application/vnd.jupyter.widget-view+json": {
       "model_id": "58f355b7afcd48e380756c0a1d5b1a1b",
       "version_major": 2,
       "version_minor": 0
      },
      "text/plain": [
       "Textarea(value='Question7', disabled=True, placeholder='Type something')"
      ]
     },
     "metadata": {},
     "output_type": "display_data"
    },
    {
     "data": {
      "application/vnd.jupyter.widget-view+json": {
       "model_id": "66ae6bceb41f49559559d17bf5d7a353",
       "version_major": 2,
       "version_minor": 0
      },
      "text/plain": [
       "RadioButtons(index=1, layout=Layout(width='max-content'), options=(0, 1, 2, 3, 4, 5), value=1)"
      ]
     },
     "metadata": {},
     "output_type": "display_data"
    },
    {
     "data": {
      "application/vnd.jupyter.widget-view+json": {
       "model_id": "333ca0473b1f42a0bbcbe63f2b79cc78",
       "version_major": 2,
       "version_minor": 0
      },
      "text/plain": [
       "Textarea(value='Question8', disabled=True, placeholder='Type something')"
      ]
     },
     "metadata": {},
     "output_type": "display_data"
    },
    {
     "data": {
      "application/vnd.jupyter.widget-view+json": {
       "model_id": "620eedc4cfb34033af61e4d915a5292a",
       "version_major": 2,
       "version_minor": 0
      },
      "text/plain": [
       "RadioButtons(index=1, layout=Layout(width='max-content'), options=(0, 1, 2, 3, 4, 5), value=1)"
      ]
     },
     "metadata": {},
     "output_type": "display_data"
    },
    {
     "data": {
      "application/vnd.jupyter.widget-view+json": {
       "model_id": "c1d49962b6bd45239e02eb8c1790323e",
       "version_major": 2,
       "version_minor": 0
      },
      "text/plain": [
       "Textarea(value='Question9', disabled=True, placeholder='Type something')"
      ]
     },
     "metadata": {},
     "output_type": "display_data"
    },
    {
     "data": {
      "application/vnd.jupyter.widget-view+json": {
       "model_id": "76c67a7055f141009419a3926112b28b",
       "version_major": 2,
       "version_minor": 0
      },
      "text/plain": [
       "RadioButtons(index=1, layout=Layout(width='max-content'), options=(0, 1, 2, 3, 4, 5), value=1)"
      ]
     },
     "metadata": {},
     "output_type": "display_data"
    }
   ],
   "source": [
    "ta_rb = widgets.Textarea(\n",
    "    value='Question1',\n",
    "    placeholder='Type something',\n",
    "    disabled=True\n",
    ")\n",
    "display(ta_rb)\n",
    "rb1 = widgets.RadioButtons(\n",
    "    options=[0, 1, 2, 3, 4, 5],\n",
    "    value=1, # Defaults to 1\n",
    "    layout={'width': 'max-content'}, # If the items' names are long\n",
    "    disabled=False\n",
    ")\n",
    "display(rb1)\n",
    "ta_rb = widgets.Textarea(\n",
    "    value='Question2a',\n",
    "    placeholder='Type something',\n",
    "    disabled=True\n",
    ")\n",
    "display(ta_rb)\n",
    "rb2a = widgets.RadioButtons(\n",
    "    options=[0, 1, 2, 3, 4, 5],\n",
    "    value=1, # Defaults to 1\n",
    "    layout={'width': 'max-content'},\n",
    "    disabled=False\n",
    ")\n",
    "display(rb2a)\n",
    "ta_rb = widgets.Textarea(\n",
    "    value='Question2b',\n",
    "    placeholder='Type something',\n",
    "    disabled=True\n",
    ")\n",
    "display(ta_rb)\n",
    "rb2b = widgets.RadioButtons(\n",
    "    options=[0, 1, 2, 3, 4, 5],\n",
    "    value=1, # Defaults to 1\n",
    "    layout={'width': 'max-content'},\n",
    "    disabled=False\n",
    ")\n",
    "display(rb2b)\n",
    "ta_rb = widgets.Textarea(\n",
    "    value='Question3',\n",
    "    placeholder='Type something',\n",
    "    disabled=True\n",
    ")\n",
    "display(ta_rb)\n",
    "rb3 = widgets.RadioButtons(\n",
    "    options=[0, 1, 2, 3, 4, 5],\n",
    "    value=1, # Defaults to 1\n",
    "    layout={'width': 'max-content'},\n",
    "    disabled=False\n",
    ")\n",
    "display(rb3)\n",
    "ta_rb = widgets.Textarea(\n",
    "    value='Question4',\n",
    "    placeholder='Type something',\n",
    "    disabled=True\n",
    ")\n",
    "display(ta_rb)\n",
    "rb4 = widgets.RadioButtons(\n",
    "    options=[0, 1, 2, 3, 4, 5],\n",
    "    value=1, # Defaults to 1\n",
    "    layout={'width': 'max-content'},\n",
    "    disabled=False\n",
    ")\n",
    "display(rb4)\n",
    "ta_rb = widgets.Textarea(\n",
    "    value='Question5a',\n",
    "    placeholder='Type something',\n",
    "    disabled=True\n",
    ")\n",
    "display(ta_rb)\n",
    "rb5a = widgets.RadioButtons(\n",
    "    options=[0, 1, 2, 3, 4, 5],\n",
    "    value=1, # Defaults to 1\n",
    "    layout={'width': 'max-content'},\n",
    "    disabled=False\n",
    ")\n",
    "display(rb5a)\n",
    "ta_rb = widgets.Textarea(\n",
    "    value='Question5b',\n",
    "    placeholder='Type something',\n",
    "    disabled=True\n",
    ")\n",
    "display(ta_rb)\n",
    "rb5b = widgets.RadioButtons(\n",
    "    options=[0, 1, 2, 3, 4, 5],\n",
    "    value=1, # Defaults to 1\n",
    "    layout={'width': 'max-content'},\n",
    "    disabled=False\n",
    ")\n",
    "display(rb5b)\n",
    "ta_rb = widgets.Textarea(\n",
    "    value='Question6a',\n",
    "    placeholder='Type something',\n",
    "    disabled=True\n",
    ")\n",
    "display(ta_rb)\n",
    "rb6a = widgets.RadioButtons(\n",
    "    options=[0, 1, 2, 3, 4, 5],\n",
    "    value=1, # Defaults to 1\n",
    "    layout={'width': 'max-content'},\n",
    "    disabled=False\n",
    ")\n",
    "display(rb6a)\n",
    "ta_rb = widgets.Textarea(\n",
    "    value='Question6b',\n",
    "    placeholder='Type something',\n",
    "    disabled=True\n",
    ")\n",
    "display(ta_rb)\n",
    "rb6b = widgets.RadioButtons(\n",
    "    options=[0, 1, 2, 3, 4, 5],\n",
    "    value=1, # Defaults to 1\n",
    "    layout={'width': 'max-content'},\n",
    "    disabled=False\n",
    ")\n",
    "display(rb6b)\n",
    "ta_rb = widgets.Textarea(\n",
    "    value='Question7',\n",
    "    placeholder='Type something',\n",
    "    disabled=True\n",
    ")\n",
    "display(ta_rb)\n",
    "rb7 = widgets.RadioButtons(\n",
    "    options=[0, 1, 2, 3, 4, 5],\n",
    "    value=1, # Defaults to 1\n",
    "    layout={'width': 'max-content'},\n",
    "    disabled=False\n",
    ")\n",
    "display(rb7)\n",
    "ta_rb = widgets.Textarea(\n",
    "    value='Question8',\n",
    "    placeholder='Type something',\n",
    "    disabled=True\n",
    ")\n",
    "display(ta_rb)\n",
    "rb8 = widgets.RadioButtons(\n",
    "    options=[0, 1, 2, 3, 4, 5],\n",
    "    value=1, # Defaults to 1\n",
    "    layout={'width': 'max-content'},\n",
    "    disabled=False\n",
    ")\n",
    "display(rb8)\n",
    "ta_rb = widgets.Textarea(\n",
    "    value='Question9',\n",
    "    placeholder='Type something',\n",
    "    disabled=True\n",
    ")\n",
    "display(ta_rb)\n",
    "rb9 = widgets.RadioButtons(\n",
    "    options=[0, 1, 2, 3, 4, 5],\n",
    "    value=1, # Defaults to 1\n",
    "    layout={'width': 'max-content'},\n",
    "    disabled=False\n",
    ")\n",
    "display(rb9)"
   ]
  },
  {
   "cell_type": "code",
   "execution_count": 352,
   "metadata": {},
   "outputs": [
    {
     "data": {
      "application/vnd.jupyter.widget-view+json": {
       "model_id": "db62d4af2b014c09a2650640567e5e00",
       "version_major": 2,
       "version_minor": 0
      },
      "text/plain": [
       "Textarea(value='Goal1', disabled=True, placeholder='Type something')"
      ]
     },
     "metadata": {},
     "output_type": "display_data"
    },
    {
     "data": {
      "application/vnd.jupyter.widget-view+json": {
       "model_id": "583b1b5a03784927b54d43930381cb07",
       "version_major": 2,
       "version_minor": 0
      },
      "text/plain": [
       "RadioButtons(index=1, layout=Layout(width='max-content'), options=(0, 1, 2, 3, 4, 5), value=1)"
      ]
     },
     "metadata": {},
     "output_type": "display_data"
    },
    {
     "data": {
      "application/vnd.jupyter.widget-view+json": {
       "model_id": "29f27456dc7b487aa06dd73b3c2b7751",
       "version_major": 2,
       "version_minor": 0
      },
      "text/plain": [
       "Textarea(value='Goal2', disabled=True, placeholder='Type something')"
      ]
     },
     "metadata": {},
     "output_type": "display_data"
    },
    {
     "data": {
      "application/vnd.jupyter.widget-view+json": {
       "model_id": "d07e010d41d14a4da917febc2744d688",
       "version_major": 2,
       "version_minor": 0
      },
      "text/plain": [
       "RadioButtons(index=1, layout=Layout(width='max-content'), options=(0, 1, 2, 3, 4, 5), value=1)"
      ]
     },
     "metadata": {},
     "output_type": "display_data"
    },
    {
     "data": {
      "application/vnd.jupyter.widget-view+json": {
       "model_id": "caa6f8c7cb0648a091a908f2f1504a57",
       "version_major": 2,
       "version_minor": 0
      },
      "text/plain": [
       "Textarea(value='Goal3', disabled=True, placeholder='Type something')"
      ]
     },
     "metadata": {},
     "output_type": "display_data"
    },
    {
     "data": {
      "application/vnd.jupyter.widget-view+json": {
       "model_id": "f28f5c723fbb4294a1985af049fbac5b",
       "version_major": 2,
       "version_minor": 0
      },
      "text/plain": [
       "RadioButtons(index=1, layout=Layout(width='max-content'), options=(0, 1, 2, 3, 4, 5), value=1)"
      ]
     },
     "metadata": {},
     "output_type": "display_data"
    },
    {
     "data": {
      "application/vnd.jupyter.widget-view+json": {
       "model_id": "885c2cca62504b83a97d80c465be0fb1",
       "version_major": 2,
       "version_minor": 0
      },
      "text/plain": [
       "Textarea(value='Goal4', disabled=True, placeholder='Type something')"
      ]
     },
     "metadata": {},
     "output_type": "display_data"
    },
    {
     "data": {
      "application/vnd.jupyter.widget-view+json": {
       "model_id": "909eab927d4646359c2fccdb92b07b4d",
       "version_major": 2,
       "version_minor": 0
      },
      "text/plain": [
       "RadioButtons(index=1, layout=Layout(width='max-content'), options=(0, 1, 2, 3, 4, 5), value=1)"
      ]
     },
     "metadata": {},
     "output_type": "display_data"
    },
    {
     "data": {
      "application/vnd.jupyter.widget-view+json": {
       "model_id": "44c0cb922d8d4ab7a978879746a491b9",
       "version_major": 2,
       "version_minor": 0
      },
      "text/plain": [
       "Textarea(value='Goal5', disabled=True, placeholder='Type something')"
      ]
     },
     "metadata": {},
     "output_type": "display_data"
    },
    {
     "data": {
      "application/vnd.jupyter.widget-view+json": {
       "model_id": "f3fdbc9033874760b081efaa29bd548c",
       "version_major": 2,
       "version_minor": 0
      },
      "text/plain": [
       "RadioButtons(index=1, layout=Layout(width='max-content'), options=(0, 1, 2, 3, 4, 5), value=1)"
      ]
     },
     "metadata": {},
     "output_type": "display_data"
    },
    {
     "data": {
      "application/vnd.jupyter.widget-view+json": {
       "model_id": "5d4cc95e9b99413eb5101318dec8524e",
       "version_major": 2,
       "version_minor": 0
      },
      "text/plain": [
       "Textarea(value='Goal6', disabled=True, placeholder='Type something')"
      ]
     },
     "metadata": {},
     "output_type": "display_data"
    },
    {
     "data": {
      "application/vnd.jupyter.widget-view+json": {
       "model_id": "1fa7f630aa0741e2a065a7d9d440f171",
       "version_major": 2,
       "version_minor": 0
      },
      "text/plain": [
       "RadioButtons(index=1, layout=Layout(width='max-content'), options=(0, 1, 2, 3, 4, 5), value=1)"
      ]
     },
     "metadata": {},
     "output_type": "display_data"
    },
    {
     "data": {
      "application/vnd.jupyter.widget-view+json": {
       "model_id": "dda2030de15f42dc99de81e7d00c7202",
       "version_major": 2,
       "version_minor": 0
      },
      "text/plain": [
       "Textarea(value='Goal7b', disabled=True, placeholder='Type something')"
      ]
     },
     "metadata": {},
     "output_type": "display_data"
    },
    {
     "data": {
      "application/vnd.jupyter.widget-view+json": {
       "model_id": "6ab7782977ea46f8a410c05455b35216",
       "version_major": 2,
       "version_minor": 0
      },
      "text/plain": [
       "RadioButtons(index=1, layout=Layout(width='max-content'), options=(0, 1, 2, 3, 4, 5), value=1)"
      ]
     },
     "metadata": {},
     "output_type": "display_data"
    },
    {
     "data": {
      "application/vnd.jupyter.widget-view+json": {
       "model_id": "b370857e4d24409f94179cd5accebd3c",
       "version_major": 2,
       "version_minor": 0
      },
      "text/plain": [
       "Textarea(value='Goal8', disabled=True, placeholder='Type something')"
      ]
     },
     "metadata": {},
     "output_type": "display_data"
    },
    {
     "data": {
      "application/vnd.jupyter.widget-view+json": {
       "model_id": "86edd3cd918948c1aebd9daa6ac5d80f",
       "version_major": 2,
       "version_minor": 0
      },
      "text/plain": [
       "RadioButtons(index=1, layout=Layout(width='max-content'), options=(0, 1, 2, 3, 4, 5), value=1)"
      ]
     },
     "metadata": {},
     "output_type": "display_data"
    },
    {
     "data": {
      "application/vnd.jupyter.widget-view+json": {
       "model_id": "a631273a2bfb40629c3c17ab328bae83",
       "version_major": 2,
       "version_minor": 0
      },
      "text/plain": [
       "Textarea(value='Goal9', disabled=True, placeholder='Type something')"
      ]
     },
     "metadata": {},
     "output_type": "display_data"
    },
    {
     "data": {
      "application/vnd.jupyter.widget-view+json": {
       "model_id": "a90f2e6df13b40c4be7da5bbb3a6fd62",
       "version_major": 2,
       "version_minor": 0
      },
      "text/plain": [
       "RadioButtons(index=1, layout=Layout(width='max-content'), options=(0, 1, 2, 3, 4, 5), value=1)"
      ]
     },
     "metadata": {},
     "output_type": "display_data"
    },
    {
     "data": {
      "application/vnd.jupyter.widget-view+json": {
       "model_id": "620e11575b7d49ef981a3f917d9a59c7",
       "version_major": 2,
       "version_minor": 0
      },
      "text/plain": [
       "Textarea(value='Goal10', disabled=True, placeholder='Type something')"
      ]
     },
     "metadata": {},
     "output_type": "display_data"
    },
    {
     "data": {
      "application/vnd.jupyter.widget-view+json": {
       "model_id": "81bb35fff1a04ad09c3830fcb7735d33",
       "version_major": 2,
       "version_minor": 0
      },
      "text/plain": [
       "RadioButtons(index=1, layout=Layout(width='max-content'), options=(0, 1, 2, 3, 4, 5), value=1)"
      ]
     },
     "metadata": {},
     "output_type": "display_data"
    },
    {
     "data": {
      "application/vnd.jupyter.widget-view+json": {
       "model_id": "367ca8ed508e48a19ce0ccd8a99b4ffd",
       "version_major": 2,
       "version_minor": 0
      },
      "text/plain": [
       "Textarea(value='Goal11', disabled=True, placeholder='Type something')"
      ]
     },
     "metadata": {},
     "output_type": "display_data"
    },
    {
     "data": {
      "application/vnd.jupyter.widget-view+json": {
       "model_id": "7add20a901e44deab5a2d07b5a74ce70",
       "version_major": 2,
       "version_minor": 0
      },
      "text/plain": [
       "RadioButtons(index=1, layout=Layout(width='max-content'), options=(0, 1, 2, 3, 4, 5), value=1)"
      ]
     },
     "metadata": {},
     "output_type": "display_data"
    },
    {
     "data": {
      "application/vnd.jupyter.widget-view+json": {
       "model_id": "f7c4de937b804881a8f85167b8c6f385",
       "version_major": 2,
       "version_minor": 0
      },
      "text/plain": [
       "Textarea(value='Goal12', disabled=True, placeholder='Type something')"
      ]
     },
     "metadata": {},
     "output_type": "display_data"
    },
    {
     "data": {
      "application/vnd.jupyter.widget-view+json": {
       "model_id": "f76ac3cfac884a738c8c3e9fc05e1ea7",
       "version_major": 2,
       "version_minor": 0
      },
      "text/plain": [
       "RadioButtons(index=1, layout=Layout(width='max-content'), options=(0, 1, 2, 3, 4, 5), value=1)"
      ]
     },
     "metadata": {},
     "output_type": "display_data"
    },
    {
     "data": {
      "application/vnd.jupyter.widget-view+json": {
       "model_id": "b3cb9a3d45a942b19d0f8c977ce175d3",
       "version_major": 2,
       "version_minor": 0
      },
      "text/plain": [
       "Textarea(value='Goal13', disabled=True, placeholder='Type something')"
      ]
     },
     "metadata": {},
     "output_type": "display_data"
    },
    {
     "data": {
      "application/vnd.jupyter.widget-view+json": {
       "model_id": "37a5a6f939b9416796f0565587ec8aa7",
       "version_major": 2,
       "version_minor": 0
      },
      "text/plain": [
       "RadioButtons(index=1, layout=Layout(width='max-content'), options=(0, 1, 2, 3, 4, 5), value=1)"
      ]
     },
     "metadata": {},
     "output_type": "display_data"
    },
    {
     "data": {
      "application/vnd.jupyter.widget-view+json": {
       "model_id": "5631c9e9dd62419b87e411982615753c",
       "version_major": 2,
       "version_minor": 0
      },
      "text/plain": [
       "Textarea(value='Goal14', disabled=True, placeholder='Type something')"
      ]
     },
     "metadata": {},
     "output_type": "display_data"
    },
    {
     "data": {
      "application/vnd.jupyter.widget-view+json": {
       "model_id": "3933089282ef4bb79b466129c802b719",
       "version_major": 2,
       "version_minor": 0
      },
      "text/plain": [
       "RadioButtons(index=1, layout=Layout(width='max-content'), options=(0, 1, 2, 3, 4, 5), value=1)"
      ]
     },
     "metadata": {},
     "output_type": "display_data"
    },
    {
     "data": {
      "application/vnd.jupyter.widget-view+json": {
       "model_id": "9ea2d0ec74854d1e9287462981f9e8c9",
       "version_major": 2,
       "version_minor": 0
      },
      "text/plain": [
       "Textarea(value='Goal15', disabled=True, placeholder='Type something')"
      ]
     },
     "metadata": {},
     "output_type": "display_data"
    },
    {
     "data": {
      "application/vnd.jupyter.widget-view+json": {
       "model_id": "a48c197e49e6468aae773a9236a39bac",
       "version_major": 2,
       "version_minor": 0
      },
      "text/plain": [
       "RadioButtons(index=1, layout=Layout(width='max-content'), options=(0, 1, 2, 3, 4, 5), value=1)"
      ]
     },
     "metadata": {},
     "output_type": "display_data"
    }
   ],
   "source": [
    "ta_rb = widgets.Textarea(\n",
    "    value='Goal1',\n",
    "    placeholder='Type something',\n",
    "    disabled=True\n",
    ")\n",
    "display(ta_rb)\n",
    "rbg1 = widgets.RadioButtons(\n",
    "    options=[0, 1, 2, 3, 4, 5],\n",
    "    value=1, # Defaults to 1\n",
    "    layout={'width': 'max-content'},\n",
    "    disabled=False\n",
    ")\n",
    "display(rbg1)\n",
    "ta_rb = widgets.Textarea(\n",
    "    value='Goal2',\n",
    "    placeholder='Type something',\n",
    "    disabled=True\n",
    ")\n",
    "display(ta_rb)\n",
    "rbg2 = widgets.RadioButtons(\n",
    "    options=[0, 1, 2, 3, 4, 5],\n",
    "    value=1, # Defaults to 1\n",
    "    layout={'width': 'max-content'},\n",
    "    disabled=False\n",
    ")\n",
    "display(rbg2)\n",
    "ta_rb = widgets.Textarea(\n",
    "    value='Goal3',\n",
    "    placeholder='Type something',\n",
    "    disabled=True\n",
    ")\n",
    "display(ta_rb)\n",
    "rbg3 = widgets.RadioButtons(\n",
    "    options=[0, 1, 2, 3, 4, 5],\n",
    "    value=1, # Defaults to 1\n",
    "    layout={'width': 'max-content'},\n",
    "    disabled=False\n",
    ")\n",
    "display(rbg3)\n",
    "ta_rb = widgets.Textarea(\n",
    "    value='Goal4',\n",
    "    placeholder='Type something',\n",
    "    disabled=True\n",
    ")\n",
    "display(ta_rb)\n",
    "rbg4 = widgets.RadioButtons(\n",
    "    options=[0, 1, 2, 3, 4, 5],\n",
    "    value=1, # Defaults to 1\n",
    "    layout={'width': 'max-content'},\n",
    "    disabled=False\n",
    ")\n",
    "display(rbg4)\n",
    "ta_rb = widgets.Textarea(\n",
    "    value='Goal5',\n",
    "    placeholder='Type something',\n",
    "    disabled=True\n",
    ")\n",
    "display(ta_rb)\n",
    "rbg5 = widgets.RadioButtons(\n",
    "    options=[0, 1, 2, 3, 4, 5],\n",
    "    value=1, # Defaults to 1\n",
    "    layout={'width': 'max-content'},\n",
    "    disabled=False\n",
    ")\n",
    "display(rbg5)\n",
    "ta_rb = widgets.Textarea(\n",
    "    value='Goal6',\n",
    "    placeholder='Type something',\n",
    "    disabled=True\n",
    ")\n",
    "display(ta_rb)\n",
    "rbg6 = widgets.RadioButtons(\n",
    "    options=[0, 1, 2, 3, 4, 5],\n",
    "    value=1, # Defaults to 1\n",
    "    layout={'width': 'max-content'},\n",
    "    disabled=False\n",
    ")\n",
    "display(rbg6)\n",
    "ta_rb = widgets.Textarea(\n",
    "    value='Goal7b',\n",
    "    placeholder='Type something',\n",
    "    disabled=True\n",
    ")\n",
    "display(ta_rb)\n",
    "rbg7b = widgets.RadioButtons(\n",
    "    options=[0, 1, 2, 3, 4, 5],\n",
    "    value=1, # Defaults to 1\n",
    "    layout={'width': 'max-content'},\n",
    "    disabled=False\n",
    ")\n",
    "display(rbg7b)\n",
    "ta_rb = widgets.Textarea(\n",
    "    value='Goal8',\n",
    "    placeholder='Type something',\n",
    "    disabled=True\n",
    ")\n",
    "display(ta_rb)\n",
    "rbg8 = widgets.RadioButtons(\n",
    "    options=[0, 1, 2, 3, 4, 5],\n",
    "    value=1, # Defaults to 1\n",
    "    layout={'width': 'max-content'},\n",
    "    disabled=False\n",
    ")\n",
    "display(rbg8)\n",
    "ta_rb = widgets.Textarea(\n",
    "    value='Goal9',\n",
    "    placeholder='Type something',\n",
    "    disabled=True\n",
    ")\n",
    "display(ta_rb)\n",
    "rbg9 = widgets.RadioButtons(\n",
    "    options=[0, 1, 2, 3, 4, 5],\n",
    "    value=1, # Defaults to 1\n",
    "    layout={'width': 'max-content'},\n",
    "    disabled=False\n",
    ")\n",
    "display(rbg9)\n",
    "ta_rb = widgets.Textarea(\n",
    "    value='Goal10',\n",
    "    placeholder='Type something',\n",
    "    disabled=True\n",
    ")\n",
    "display(ta_rb)\n",
    "rbg10 = widgets.RadioButtons(\n",
    "    options=[0, 1, 2, 3, 4, 5],\n",
    "    value=1, # Defaults to 1\n",
    "    layout={'width': 'max-content'},\n",
    "    disabled=False\n",
    ")\n",
    "display(rbg10)\n",
    "ta_rb = widgets.Textarea(\n",
    "    value='Goal11',\n",
    "    placeholder='Type something',\n",
    "    disabled=True\n",
    ")\n",
    "display(ta_rb)\n",
    "rbg11 = widgets.RadioButtons(\n",
    "    options=[0, 1, 2, 3, 4, 5],\n",
    "    value=1, # Defaults to 1\n",
    "    layout={'width': 'max-content'},\n",
    "    disabled=False\n",
    ")\n",
    "display(rbg11)\n",
    "ta_rb = widgets.Textarea(\n",
    "    value='Goal12',\n",
    "    placeholder='Type something',\n",
    "    disabled=True\n",
    ")\n",
    "display(ta_rb)\n",
    "rbg12 = widgets.RadioButtons(\n",
    "    options=[0, 1, 2, 3, 4, 5],\n",
    "    value=1, # Defaults to 1\n",
    "    layout={'width': 'max-content'},\n",
    "    disabled=False\n",
    ")\n",
    "display(rbg12)\n",
    "ta_rb = widgets.Textarea(\n",
    "    value='Goal13',\n",
    "    placeholder='Type something',\n",
    "    disabled=True\n",
    ")\n",
    "display(ta_rb)\n",
    "rbg13 = widgets.RadioButtons(\n",
    "    options=[0, 1, 2, 3, 4, 5],\n",
    "    value=1, # Defaults to 1\n",
    "    layout={'width': 'max-content'},\n",
    "    disabled=False\n",
    ")\n",
    "display(rbg13)\n",
    "ta_rb = widgets.Textarea(\n",
    "    value='Goal14',\n",
    "    placeholder='Type something',\n",
    "    disabled=True\n",
    ")\n",
    "display(ta_rb)\n",
    "rbg14 = widgets.RadioButtons(\n",
    "    options=[0, 1, 2, 3, 4, 5],\n",
    "    value=1, # Defaults to 1\n",
    "    layout={'width': 'max-content'},\n",
    "    disabled=False\n",
    ")\n",
    "display(rbg14)\n",
    "ta_rb = widgets.Textarea(\n",
    "    value='Goal15',\n",
    "    placeholder='Type something',\n",
    "    disabled=True\n",
    ")\n",
    "display(ta_rb)\n",
    "rbg15 = widgets.RadioButtons(\n",
    "    options=[0, 1, 2, 3, 4, 5],\n",
    "    value=1, # Defaults to 1\n",
    "    layout={'width': 'max-content'},\n",
    "    disabled=False\n",
    ")\n",
    "display(rbg15)"
   ]
  },
  {
   "cell_type": "code",
   "execution_count": 353,
   "metadata": {},
   "outputs": [
    {
     "data": {
      "application/vnd.jupyter.widget-view+json": {
       "model_id": "597779f0ee0e41cea7d418cdcb74b51b",
       "version_major": 2,
       "version_minor": 0
      },
      "text/plain": [
       "Button(description='Submit', icon='check', style=ButtonStyle(), tooltip='Click me')"
      ]
     },
     "metadata": {},
     "output_type": "display_data"
    },
    {
     "data": {
      "application/vnd.plotly.v1+json": {
       "config": {
        "displayModeBar": true,
        "plotlyServerURL": "https://plot.ly",
        "toImageButtonOptions": {
         "filename": "industry_40_assessment",
         "format": "png",
         "height": 900,
         "scale": 1,
         "width": 1100
        }
       },
       "data": [
        {
         "hovertemplate": "<b>%{text}</b><extra></extra>",
         "marker": {
          "color": "rgb(255,0,0)"
         },
         "name": "External Barriers",
         "opacity": 0.4,
         "text": [
          "EB1",
          "EB2",
          "EB3",
          "EB4",
          "EB5"
         ],
         "type": "bar",
         "x": [
          0.06,
          0.1,
          0.14,
          0.18,
          0.22
         ],
         "y": [
          0.4545454545454546,
          0.32727272727272727,
          0.32727272727272727,
          0.32727272727272727,
          0.32727272727272727
         ]
        },
        {
         "hovertemplate": "<b>%{text}</b><extra></extra>",
         "marker": {
          "color": "rgb(120,30,30)"
         },
         "name": "Internal Barriers",
         "opacity": 0.4,
         "text": [
          "IB1",
          "IB2",
          "IB3",
          "IB4",
          "IB5",
          "IB6",
          "IB7(a)",
          "IB7(b)",
          "IB8(a,b)",
          "IB9",
          "IB10",
          "IB11",
          "IB12(a)",
          "IB12(b)",
          "IB13",
          "IB14",
          "IB15",
          "IB16"
         ],
         "type": "bar",
         "x": [
          0.26,
          0.3,
          0.34,
          0.38,
          0.42,
          0.46,
          0.5,
          0.54,
          0.58,
          0.62,
          0.66,
          0.7,
          0.74,
          0.78,
          0.82,
          0.86,
          0.9,
          0.94
         ],
         "y": [
          0.15272727272727274,
          0.15272727272727274,
          0.3927272727272727,
          0.15272727272727274,
          0.38181818181818183,
          0.3927272727272727,
          0.15272727272727274,
          0.24,
          0.15272727272727274,
          0.07636363636363637,
          0.24,
          0.12,
          0.35999999999999993,
          0.07636363636363637,
          0.19636363636363635,
          0.07636363636363637,
          0.07636363636363637,
          0.35999999999999993
         ]
        }
       ],
       "layout": {
        "annotations": [
         {
          "align": "left",
          "showarrow": false,
          "text": "<b><i>Traditional<br>Manufacturing</i></b>",
          "x": 0.1,
          "y": 0.4
         },
         {
          "align": "left",
          "showarrow": false,
          "text": "<b><i>Digital<br>Manufacturing</i></b>",
          "x": 0.6,
          "y": 0.4
         },
         {
          "align": "left",
          "showarrow": false,
          "text": "<b><i>Digital<br>Servitization</i></b>",
          "x": 0.09,
          "y": 0.9
         },
         {
          "align": "left",
          "showarrow": false,
          "text": "<b><i>Fully Digital<br>Transformation</i></b>",
          "x": 0.6,
          "y": 0.9
         },
         {
          "text": "Enablers",
          "x": 0.2,
          "y": 0.2
         },
         {
          "text": "Goals",
          "x": 0.38181818181818183,
          "y": 0.6
         },
         {
          "arrowcolor": "Gray",
          "arrowhead": 2,
          "arrowsize": 1,
          "arrowwidth": 2,
          "ax": 0.2,
          "axref": "x",
          "ay": 0.2,
          "ayref": "y",
          "opacity": 1,
          "showarrow": true,
          "x": 0.38181818181818183,
          "xref": "x",
          "y": 0.6,
          "yref": "y"
         }
        ],
        "shapes": [
         {
          "line": {
           "color": "Gray",
           "dash": "dashdot",
           "width": 3
          },
          "type": "line",
          "x0": 0.5,
          "x1": 0.5,
          "y0": 0,
          "y1": 1
         },
         {
          "line": {
           "color": "Gray",
           "dash": "dashdot",
           "width": 3
          },
          "type": "line",
          "x0": 0,
          "x1": 1,
          "y0": 0.5,
          "y1": 0.5
         },
         {
          "line": {
           "color": "Black",
           "width": 2.5
          },
          "type": "line",
          "x0": 0,
          "x1": 1,
          "y0": 0,
          "y1": 0
         },
         {
          "line": {
           "color": "Black",
           "width": 1.5
          },
          "type": "line",
          "x0": 0,
          "x1": 1,
          "y0": 1,
          "y1": 1
         },
         {
          "line": {
           "color": "Black",
           "width": 2.5
          },
          "type": "line",
          "x0": 0,
          "x1": 0,
          "y0": 0,
          "y1": 1
         },
         {
          "line": {
           "color": "Black",
           "width": 1.5
          },
          "type": "line",
          "x0": 1,
          "x1": 1,
          "y0": 0,
          "y1": 1
         },
         {
          "fillcolor": "Black",
          "line": {
           "color": "Black"
          },
          "type": "circle",
          "x0": 0.19,
          "x1": 0.21000000000000002,
          "xref": "x",
          "y0": 0.19,
          "y1": 0.23,
          "yref": "y"
         },
         {
          "fillcolor": "rgb(24,230,79)",
          "line": {
           "color": "rgb(24,230,79)"
          },
          "type": "circle",
          "x0": 0.3718181818181818,
          "x1": 0.39181818181818184,
          "xref": "x",
          "y0": 0.59,
          "y1": 0.63,
          "yref": "y"
         }
        ],
        "template": {
         "data": {
          "bar": [
           {
            "error_x": {
             "color": "#2a3f5f"
            },
            "error_y": {
             "color": "#2a3f5f"
            },
            "marker": {
             "line": {
              "color": "white",
              "width": 0.5
             }
            },
            "type": "bar"
           }
          ],
          "barpolar": [
           {
            "marker": {
             "line": {
              "color": "white",
              "width": 0.5
             }
            },
            "type": "barpolar"
           }
          ],
          "carpet": [
           {
            "aaxis": {
             "endlinecolor": "#2a3f5f",
             "gridcolor": "#C8D4E3",
             "linecolor": "#C8D4E3",
             "minorgridcolor": "#C8D4E3",
             "startlinecolor": "#2a3f5f"
            },
            "baxis": {
             "endlinecolor": "#2a3f5f",
             "gridcolor": "#C8D4E3",
             "linecolor": "#C8D4E3",
             "minorgridcolor": "#C8D4E3",
             "startlinecolor": "#2a3f5f"
            },
            "type": "carpet"
           }
          ],
          "choropleth": [
           {
            "colorbar": {
             "outlinewidth": 0,
             "ticks": ""
            },
            "type": "choropleth"
           }
          ],
          "contour": [
           {
            "colorbar": {
             "outlinewidth": 0,
             "ticks": ""
            },
            "colorscale": [
             [
              0,
              "#0d0887"
             ],
             [
              0.1111111111111111,
              "#46039f"
             ],
             [
              0.2222222222222222,
              "#7201a8"
             ],
             [
              0.3333333333333333,
              "#9c179e"
             ],
             [
              0.4444444444444444,
              "#bd3786"
             ],
             [
              0.5555555555555556,
              "#d8576b"
             ],
             [
              0.6666666666666666,
              "#ed7953"
             ],
             [
              0.7777777777777778,
              "#fb9f3a"
             ],
             [
              0.8888888888888888,
              "#fdca26"
             ],
             [
              1,
              "#f0f921"
             ]
            ],
            "type": "contour"
           }
          ],
          "contourcarpet": [
           {
            "colorbar": {
             "outlinewidth": 0,
             "ticks": ""
            },
            "type": "contourcarpet"
           }
          ],
          "heatmap": [
           {
            "colorbar": {
             "outlinewidth": 0,
             "ticks": ""
            },
            "colorscale": [
             [
              0,
              "#0d0887"
             ],
             [
              0.1111111111111111,
              "#46039f"
             ],
             [
              0.2222222222222222,
              "#7201a8"
             ],
             [
              0.3333333333333333,
              "#9c179e"
             ],
             [
              0.4444444444444444,
              "#bd3786"
             ],
             [
              0.5555555555555556,
              "#d8576b"
             ],
             [
              0.6666666666666666,
              "#ed7953"
             ],
             [
              0.7777777777777778,
              "#fb9f3a"
             ],
             [
              0.8888888888888888,
              "#fdca26"
             ],
             [
              1,
              "#f0f921"
             ]
            ],
            "type": "heatmap"
           }
          ],
          "heatmapgl": [
           {
            "colorbar": {
             "outlinewidth": 0,
             "ticks": ""
            },
            "colorscale": [
             [
              0,
              "#0d0887"
             ],
             [
              0.1111111111111111,
              "#46039f"
             ],
             [
              0.2222222222222222,
              "#7201a8"
             ],
             [
              0.3333333333333333,
              "#9c179e"
             ],
             [
              0.4444444444444444,
              "#bd3786"
             ],
             [
              0.5555555555555556,
              "#d8576b"
             ],
             [
              0.6666666666666666,
              "#ed7953"
             ],
             [
              0.7777777777777778,
              "#fb9f3a"
             ],
             [
              0.8888888888888888,
              "#fdca26"
             ],
             [
              1,
              "#f0f921"
             ]
            ],
            "type": "heatmapgl"
           }
          ],
          "histogram": [
           {
            "marker": {
             "colorbar": {
              "outlinewidth": 0,
              "ticks": ""
             }
            },
            "type": "histogram"
           }
          ],
          "histogram2d": [
           {
            "colorbar": {
             "outlinewidth": 0,
             "ticks": ""
            },
            "colorscale": [
             [
              0,
              "#0d0887"
             ],
             [
              0.1111111111111111,
              "#46039f"
             ],
             [
              0.2222222222222222,
              "#7201a8"
             ],
             [
              0.3333333333333333,
              "#9c179e"
             ],
             [
              0.4444444444444444,
              "#bd3786"
             ],
             [
              0.5555555555555556,
              "#d8576b"
             ],
             [
              0.6666666666666666,
              "#ed7953"
             ],
             [
              0.7777777777777778,
              "#fb9f3a"
             ],
             [
              0.8888888888888888,
              "#fdca26"
             ],
             [
              1,
              "#f0f921"
             ]
            ],
            "type": "histogram2d"
           }
          ],
          "histogram2dcontour": [
           {
            "colorbar": {
             "outlinewidth": 0,
             "ticks": ""
            },
            "colorscale": [
             [
              0,
              "#0d0887"
             ],
             [
              0.1111111111111111,
              "#46039f"
             ],
             [
              0.2222222222222222,
              "#7201a8"
             ],
             [
              0.3333333333333333,
              "#9c179e"
             ],
             [
              0.4444444444444444,
              "#bd3786"
             ],
             [
              0.5555555555555556,
              "#d8576b"
             ],
             [
              0.6666666666666666,
              "#ed7953"
             ],
             [
              0.7777777777777778,
              "#fb9f3a"
             ],
             [
              0.8888888888888888,
              "#fdca26"
             ],
             [
              1,
              "#f0f921"
             ]
            ],
            "type": "histogram2dcontour"
           }
          ],
          "mesh3d": [
           {
            "colorbar": {
             "outlinewidth": 0,
             "ticks": ""
            },
            "type": "mesh3d"
           }
          ],
          "parcoords": [
           {
            "line": {
             "colorbar": {
              "outlinewidth": 0,
              "ticks": ""
             }
            },
            "type": "parcoords"
           }
          ],
          "pie": [
           {
            "automargin": true,
            "type": "pie"
           }
          ],
          "scatter": [
           {
            "marker": {
             "colorbar": {
              "outlinewidth": 0,
              "ticks": ""
             }
            },
            "type": "scatter"
           }
          ],
          "scatter3d": [
           {
            "line": {
             "colorbar": {
              "outlinewidth": 0,
              "ticks": ""
             }
            },
            "marker": {
             "colorbar": {
              "outlinewidth": 0,
              "ticks": ""
             }
            },
            "type": "scatter3d"
           }
          ],
          "scattercarpet": [
           {
            "marker": {
             "colorbar": {
              "outlinewidth": 0,
              "ticks": ""
             }
            },
            "type": "scattercarpet"
           }
          ],
          "scattergeo": [
           {
            "marker": {
             "colorbar": {
              "outlinewidth": 0,
              "ticks": ""
             }
            },
            "type": "scattergeo"
           }
          ],
          "scattergl": [
           {
            "marker": {
             "colorbar": {
              "outlinewidth": 0,
              "ticks": ""
             }
            },
            "type": "scattergl"
           }
          ],
          "scattermapbox": [
           {
            "marker": {
             "colorbar": {
              "outlinewidth": 0,
              "ticks": ""
             }
            },
            "type": "scattermapbox"
           }
          ],
          "scatterpolar": [
           {
            "marker": {
             "colorbar": {
              "outlinewidth": 0,
              "ticks": ""
             }
            },
            "type": "scatterpolar"
           }
          ],
          "scatterpolargl": [
           {
            "marker": {
             "colorbar": {
              "outlinewidth": 0,
              "ticks": ""
             }
            },
            "type": "scatterpolargl"
           }
          ],
          "scatterternary": [
           {
            "marker": {
             "colorbar": {
              "outlinewidth": 0,
              "ticks": ""
             }
            },
            "type": "scatterternary"
           }
          ],
          "surface": [
           {
            "colorbar": {
             "outlinewidth": 0,
             "ticks": ""
            },
            "colorscale": [
             [
              0,
              "#0d0887"
             ],
             [
              0.1111111111111111,
              "#46039f"
             ],
             [
              0.2222222222222222,
              "#7201a8"
             ],
             [
              0.3333333333333333,
              "#9c179e"
             ],
             [
              0.4444444444444444,
              "#bd3786"
             ],
             [
              0.5555555555555556,
              "#d8576b"
             ],
             [
              0.6666666666666666,
              "#ed7953"
             ],
             [
              0.7777777777777778,
              "#fb9f3a"
             ],
             [
              0.8888888888888888,
              "#fdca26"
             ],
             [
              1,
              "#f0f921"
             ]
            ],
            "type": "surface"
           }
          ],
          "table": [
           {
            "cells": {
             "fill": {
              "color": "#EBF0F8"
             },
             "line": {
              "color": "white"
             }
            },
            "header": {
             "fill": {
              "color": "#C8D4E3"
             },
             "line": {
              "color": "white"
             }
            },
            "type": "table"
           }
          ]
         },
         "layout": {
          "annotationdefaults": {
           "arrowcolor": "#2a3f5f",
           "arrowhead": 0,
           "arrowwidth": 1
          },
          "coloraxis": {
           "colorbar": {
            "outlinewidth": 0,
            "ticks": ""
           }
          },
          "colorscale": {
           "diverging": [
            [
             0,
             "#8e0152"
            ],
            [
             0.1,
             "#c51b7d"
            ],
            [
             0.2,
             "#de77ae"
            ],
            [
             0.3,
             "#f1b6da"
            ],
            [
             0.4,
             "#fde0ef"
            ],
            [
             0.5,
             "#f7f7f7"
            ],
            [
             0.6,
             "#e6f5d0"
            ],
            [
             0.7,
             "#b8e186"
            ],
            [
             0.8,
             "#7fbc41"
            ],
            [
             0.9,
             "#4d9221"
            ],
            [
             1,
             "#276419"
            ]
           ],
           "sequential": [
            [
             0,
             "#0d0887"
            ],
            [
             0.1111111111111111,
             "#46039f"
            ],
            [
             0.2222222222222222,
             "#7201a8"
            ],
            [
             0.3333333333333333,
             "#9c179e"
            ],
            [
             0.4444444444444444,
             "#bd3786"
            ],
            [
             0.5555555555555556,
             "#d8576b"
            ],
            [
             0.6666666666666666,
             "#ed7953"
            ],
            [
             0.7777777777777778,
             "#fb9f3a"
            ],
            [
             0.8888888888888888,
             "#fdca26"
            ],
            [
             1,
             "#f0f921"
            ]
           ],
           "sequentialminus": [
            [
             0,
             "#0d0887"
            ],
            [
             0.1111111111111111,
             "#46039f"
            ],
            [
             0.2222222222222222,
             "#7201a8"
            ],
            [
             0.3333333333333333,
             "#9c179e"
            ],
            [
             0.4444444444444444,
             "#bd3786"
            ],
            [
             0.5555555555555556,
             "#d8576b"
            ],
            [
             0.6666666666666666,
             "#ed7953"
            ],
            [
             0.7777777777777778,
             "#fb9f3a"
            ],
            [
             0.8888888888888888,
             "#fdca26"
            ],
            [
             1,
             "#f0f921"
            ]
           ]
          },
          "colorway": [
           "#636efa",
           "#EF553B",
           "#00cc96",
           "#ab63fa",
           "#FFA15A",
           "#19d3f3",
           "#FF6692",
           "#B6E880",
           "#FF97FF",
           "#FECB52"
          ],
          "font": {
           "color": "#2a3f5f"
          },
          "geo": {
           "bgcolor": "white",
           "lakecolor": "white",
           "landcolor": "white",
           "showlakes": true,
           "showland": true,
           "subunitcolor": "#C8D4E3"
          },
          "hoverlabel": {
           "align": "left"
          },
          "hovermode": "closest",
          "mapbox": {
           "style": "light"
          },
          "paper_bgcolor": "white",
          "plot_bgcolor": "white",
          "polar": {
           "angularaxis": {
            "gridcolor": "#EBF0F8",
            "linecolor": "#EBF0F8",
            "ticks": ""
           },
           "bgcolor": "white",
           "radialaxis": {
            "gridcolor": "#EBF0F8",
            "linecolor": "#EBF0F8",
            "ticks": ""
           }
          },
          "scene": {
           "xaxis": {
            "backgroundcolor": "white",
            "gridcolor": "#DFE8F3",
            "gridwidth": 2,
            "linecolor": "#EBF0F8",
            "showbackground": true,
            "ticks": "",
            "zerolinecolor": "#EBF0F8"
           },
           "yaxis": {
            "backgroundcolor": "white",
            "gridcolor": "#DFE8F3",
            "gridwidth": 2,
            "linecolor": "#EBF0F8",
            "showbackground": true,
            "ticks": "",
            "zerolinecolor": "#EBF0F8"
           },
           "zaxis": {
            "backgroundcolor": "white",
            "gridcolor": "#DFE8F3",
            "gridwidth": 2,
            "linecolor": "#EBF0F8",
            "showbackground": true,
            "ticks": "",
            "zerolinecolor": "#EBF0F8"
           }
          },
          "shapedefaults": {
           "line": {
            "color": "#2a3f5f"
           }
          },
          "ternary": {
           "aaxis": {
            "gridcolor": "#DFE8F3",
            "linecolor": "#A2B1C6",
            "ticks": ""
           },
           "baxis": {
            "gridcolor": "#DFE8F3",
            "linecolor": "#A2B1C6",
            "ticks": ""
           },
           "bgcolor": "white",
           "caxis": {
            "gridcolor": "#DFE8F3",
            "linecolor": "#A2B1C6",
            "ticks": ""
           }
          },
          "title": {
           "x": 0.05
          },
          "xaxis": {
           "automargin": true,
           "gridcolor": "#EBF0F8",
           "linecolor": "#EBF0F8",
           "ticks": "",
           "title": {
            "standoff": 15
           },
           "zerolinecolor": "#EBF0F8",
           "zerolinewidth": 2
          },
          "yaxis": {
           "automargin": true,
           "gridcolor": "#EBF0F8",
           "linecolor": "#EBF0F8",
           "ticks": "",
           "title": {
            "standoff": 15
           },
           "zerolinecolor": "#EBF0F8",
           "zerolinewidth": 2
          }
         }
        },
        "title": {
         "text": "Industry 4.0 Assesment Framework"
        },
        "xaxis": {
         "range": [
          0,
          1.1
         ],
         "showgrid": false,
         "tickformat": ",.0%",
         "title": {
          "text": "Evolutionary Technologies<br>(ET1, ET2a, ET3, ET4, ET5a, ET6a, ET8, ET9)"
         },
         "zeroline": false
        },
        "yaxis": {
         "range": [
          0,
          1.1
         ],
         "showgrid": false,
         "tickformat": ",.0%",
         "title": {
          "text": "Revolutionary Technologies<br>(ET2b, ET5b, ET6b, ET7)"
         },
         "zeroline": false
        }
       }
      },
      "text/html": [
       "<div>\n",
       "        \n",
       "        \n",
       "            <div id=\"ec34f4bb-02ff-4af9-86d5-f01a1775de43\" class=\"plotly-graph-div\" style=\"height:525px; width:100%;\"></div>\n",
       "            <script type=\"text/javascript\">\n",
       "                require([\"plotly\"], function(Plotly) {\n",
       "                    window.PLOTLYENV=window.PLOTLYENV || {};\n",
       "                    \n",
       "                if (document.getElementById(\"ec34f4bb-02ff-4af9-86d5-f01a1775de43\")) {\n",
       "                    Plotly.newPlot(\n",
       "                        'ec34f4bb-02ff-4af9-86d5-f01a1775de43',\n",
       "                        [{\"hovertemplate\": \"<b>%{text}</b><extra></extra>\", \"marker\": {\"color\": \"rgb(255,0,0)\"}, \"name\": \"External Barriers\", \"opacity\": 0.4, \"text\": [\"EB1\", \"EB2\", \"EB3\", \"EB4\", \"EB5\"], \"type\": \"bar\", \"x\": [0.06, 0.1, 0.14, 0.18, 0.22], \"y\": [0.4545454545454546, 0.32727272727272727, 0.32727272727272727, 0.32727272727272727, 0.32727272727272727]}, {\"hovertemplate\": \"<b>%{text}</b><extra></extra>\", \"marker\": {\"color\": \"rgb(120,30,30)\"}, \"name\": \"Internal Barriers\", \"opacity\": 0.4, \"text\": [\"IB1\", \"IB2\", \"IB3\", \"IB4\", \"IB5\", \"IB6\", \"IB7(a)\", \"IB7(b)\", \"IB8(a,b)\", \"IB9\", \"IB10\", \"IB11\", \"IB12(a)\", \"IB12(b)\", \"IB13\", \"IB14\", \"IB15\", \"IB16\"], \"type\": \"bar\", \"x\": [0.26, 0.3, 0.34, 0.38, 0.42, 0.46, 0.5, 0.54, 0.58, 0.62, 0.66, 0.7, 0.74, 0.78, 0.82, 0.86, 0.9, 0.94], \"y\": [0.15272727272727274, 0.15272727272727274, 0.3927272727272727, 0.15272727272727274, 0.38181818181818183, 0.3927272727272727, 0.15272727272727274, 0.24, 0.15272727272727274, 0.07636363636363637, 0.24, 0.12, 0.35999999999999993, 0.07636363636363637, 0.19636363636363635, 0.07636363636363637, 0.07636363636363637, 0.35999999999999993]}],\n",
       "                        {\"annotations\": [{\"align\": \"left\", \"showarrow\": false, \"text\": \"<b><i>Traditional<br>Manufacturing</i></b>\", \"x\": 0.1, \"y\": 0.4}, {\"align\": \"left\", \"showarrow\": false, \"text\": \"<b><i>Digital<br>Manufacturing</i></b>\", \"x\": 0.6, \"y\": 0.4}, {\"align\": \"left\", \"showarrow\": false, \"text\": \"<b><i>Digital<br>Servitization</i></b>\", \"x\": 0.09, \"y\": 0.9}, {\"align\": \"left\", \"showarrow\": false, \"text\": \"<b><i>Fully Digital<br>Transformation</i></b>\", \"x\": 0.6, \"y\": 0.9}, {\"text\": \"Enablers\", \"x\": 0.2, \"y\": 0.2}, {\"text\": \"Goals\", \"x\": 0.38181818181818183, \"y\": 0.6}, {\"arrowcolor\": \"Gray\", \"arrowhead\": 2, \"arrowsize\": 1, \"arrowwidth\": 2, \"ax\": 0.2, \"axref\": \"x\", \"ay\": 0.2, \"ayref\": \"y\", \"opacity\": 1, \"showarrow\": true, \"x\": 0.38181818181818183, \"xref\": \"x\", \"y\": 0.6, \"yref\": \"y\"}], \"shapes\": [{\"line\": {\"color\": \"Gray\", \"dash\": \"dashdot\", \"width\": 3}, \"type\": \"line\", \"x0\": 0.5, \"x1\": 0.5, \"y0\": 0, \"y1\": 1}, {\"line\": {\"color\": \"Gray\", \"dash\": \"dashdot\", \"width\": 3}, \"type\": \"line\", \"x0\": 0, \"x1\": 1, \"y0\": 0.5, \"y1\": 0.5}, {\"line\": {\"color\": \"Black\", \"width\": 2.5}, \"type\": \"line\", \"x0\": 0, \"x1\": 1, \"y0\": 0, \"y1\": 0}, {\"line\": {\"color\": \"Black\", \"width\": 1.5}, \"type\": \"line\", \"x0\": 0, \"x1\": 1, \"y0\": 1, \"y1\": 1}, {\"line\": {\"color\": \"Black\", \"width\": 2.5}, \"type\": \"line\", \"x0\": 0, \"x1\": 0, \"y0\": 0, \"y1\": 1}, {\"line\": {\"color\": \"Black\", \"width\": 1.5}, \"type\": \"line\", \"x0\": 1, \"x1\": 1, \"y0\": 0, \"y1\": 1}, {\"fillcolor\": \"Black\", \"line\": {\"color\": \"Black\"}, \"type\": \"circle\", \"x0\": 0.19, \"x1\": 0.21000000000000002, \"xref\": \"x\", \"y0\": 0.19, \"y1\": 0.23, \"yref\": \"y\"}, {\"fillcolor\": \"rgb(24,230,79)\", \"line\": {\"color\": \"rgb(24,230,79)\"}, \"type\": \"circle\", \"x0\": 0.3718181818181818, \"x1\": 0.39181818181818184, \"xref\": \"x\", \"y0\": 0.59, \"y1\": 0.63, \"yref\": \"y\"}], \"template\": {\"data\": {\"bar\": [{\"error_x\": {\"color\": \"#2a3f5f\"}, \"error_y\": {\"color\": \"#2a3f5f\"}, \"marker\": {\"line\": {\"color\": \"white\", \"width\": 0.5}}, \"type\": \"bar\"}], \"barpolar\": [{\"marker\": {\"line\": {\"color\": \"white\", \"width\": 0.5}}, \"type\": \"barpolar\"}], \"carpet\": [{\"aaxis\": {\"endlinecolor\": \"#2a3f5f\", \"gridcolor\": \"#C8D4E3\", \"linecolor\": \"#C8D4E3\", \"minorgridcolor\": \"#C8D4E3\", \"startlinecolor\": \"#2a3f5f\"}, \"baxis\": {\"endlinecolor\": \"#2a3f5f\", \"gridcolor\": \"#C8D4E3\", \"linecolor\": \"#C8D4E3\", \"minorgridcolor\": \"#C8D4E3\", \"startlinecolor\": \"#2a3f5f\"}, \"type\": \"carpet\"}], \"choropleth\": [{\"colorbar\": {\"outlinewidth\": 0, \"ticks\": \"\"}, \"type\": \"choropleth\"}], \"contour\": [{\"colorbar\": {\"outlinewidth\": 0, \"ticks\": \"\"}, \"colorscale\": [[0.0, \"#0d0887\"], [0.1111111111111111, \"#46039f\"], [0.2222222222222222, \"#7201a8\"], [0.3333333333333333, \"#9c179e\"], [0.4444444444444444, \"#bd3786\"], [0.5555555555555556, \"#d8576b\"], [0.6666666666666666, \"#ed7953\"], [0.7777777777777778, \"#fb9f3a\"], [0.8888888888888888, \"#fdca26\"], [1.0, \"#f0f921\"]], \"type\": \"contour\"}], \"contourcarpet\": [{\"colorbar\": {\"outlinewidth\": 0, \"ticks\": \"\"}, \"type\": \"contourcarpet\"}], \"heatmap\": [{\"colorbar\": {\"outlinewidth\": 0, \"ticks\": \"\"}, \"colorscale\": [[0.0, \"#0d0887\"], [0.1111111111111111, \"#46039f\"], [0.2222222222222222, \"#7201a8\"], [0.3333333333333333, \"#9c179e\"], [0.4444444444444444, \"#bd3786\"], [0.5555555555555556, \"#d8576b\"], [0.6666666666666666, \"#ed7953\"], [0.7777777777777778, \"#fb9f3a\"], [0.8888888888888888, \"#fdca26\"], [1.0, \"#f0f921\"]], \"type\": \"heatmap\"}], \"heatmapgl\": [{\"colorbar\": {\"outlinewidth\": 0, \"ticks\": \"\"}, \"colorscale\": [[0.0, \"#0d0887\"], [0.1111111111111111, \"#46039f\"], [0.2222222222222222, \"#7201a8\"], [0.3333333333333333, \"#9c179e\"], [0.4444444444444444, \"#bd3786\"], [0.5555555555555556, \"#d8576b\"], [0.6666666666666666, \"#ed7953\"], [0.7777777777777778, \"#fb9f3a\"], [0.8888888888888888, \"#fdca26\"], [1.0, \"#f0f921\"]], \"type\": \"heatmapgl\"}], \"histogram\": [{\"marker\": {\"colorbar\": {\"outlinewidth\": 0, \"ticks\": \"\"}}, \"type\": \"histogram\"}], \"histogram2d\": [{\"colorbar\": {\"outlinewidth\": 0, \"ticks\": \"\"}, \"colorscale\": [[0.0, \"#0d0887\"], [0.1111111111111111, \"#46039f\"], [0.2222222222222222, \"#7201a8\"], [0.3333333333333333, \"#9c179e\"], [0.4444444444444444, \"#bd3786\"], [0.5555555555555556, \"#d8576b\"], [0.6666666666666666, \"#ed7953\"], [0.7777777777777778, \"#fb9f3a\"], [0.8888888888888888, \"#fdca26\"], [1.0, \"#f0f921\"]], \"type\": \"histogram2d\"}], \"histogram2dcontour\": [{\"colorbar\": {\"outlinewidth\": 0, \"ticks\": \"\"}, \"colorscale\": [[0.0, \"#0d0887\"], [0.1111111111111111, \"#46039f\"], [0.2222222222222222, \"#7201a8\"], [0.3333333333333333, \"#9c179e\"], [0.4444444444444444, \"#bd3786\"], [0.5555555555555556, \"#d8576b\"], [0.6666666666666666, \"#ed7953\"], [0.7777777777777778, \"#fb9f3a\"], [0.8888888888888888, \"#fdca26\"], [1.0, \"#f0f921\"]], \"type\": \"histogram2dcontour\"}], \"mesh3d\": [{\"colorbar\": {\"outlinewidth\": 0, \"ticks\": \"\"}, \"type\": \"mesh3d\"}], \"parcoords\": [{\"line\": {\"colorbar\": {\"outlinewidth\": 0, \"ticks\": \"\"}}, \"type\": \"parcoords\"}], \"pie\": [{\"automargin\": true, \"type\": \"pie\"}], \"scatter\": [{\"marker\": {\"colorbar\": {\"outlinewidth\": 0, \"ticks\": \"\"}}, \"type\": \"scatter\"}], \"scatter3d\": [{\"line\": {\"colorbar\": {\"outlinewidth\": 0, \"ticks\": \"\"}}, \"marker\": {\"colorbar\": {\"outlinewidth\": 0, \"ticks\": \"\"}}, \"type\": \"scatter3d\"}], \"scattercarpet\": [{\"marker\": {\"colorbar\": {\"outlinewidth\": 0, \"ticks\": \"\"}}, \"type\": \"scattercarpet\"}], \"scattergeo\": [{\"marker\": {\"colorbar\": {\"outlinewidth\": 0, \"ticks\": \"\"}}, \"type\": \"scattergeo\"}], \"scattergl\": [{\"marker\": {\"colorbar\": {\"outlinewidth\": 0, \"ticks\": \"\"}}, \"type\": \"scattergl\"}], \"scattermapbox\": [{\"marker\": {\"colorbar\": {\"outlinewidth\": 0, \"ticks\": \"\"}}, \"type\": \"scattermapbox\"}], \"scatterpolar\": [{\"marker\": {\"colorbar\": {\"outlinewidth\": 0, \"ticks\": \"\"}}, \"type\": \"scatterpolar\"}], \"scatterpolargl\": [{\"marker\": {\"colorbar\": {\"outlinewidth\": 0, \"ticks\": \"\"}}, \"type\": \"scatterpolargl\"}], \"scatterternary\": [{\"marker\": {\"colorbar\": {\"outlinewidth\": 0, \"ticks\": \"\"}}, \"type\": \"scatterternary\"}], \"surface\": [{\"colorbar\": {\"outlinewidth\": 0, \"ticks\": \"\"}, \"colorscale\": [[0.0, \"#0d0887\"], [0.1111111111111111, \"#46039f\"], [0.2222222222222222, \"#7201a8\"], [0.3333333333333333, \"#9c179e\"], [0.4444444444444444, \"#bd3786\"], [0.5555555555555556, \"#d8576b\"], [0.6666666666666666, \"#ed7953\"], [0.7777777777777778, \"#fb9f3a\"], [0.8888888888888888, \"#fdca26\"], [1.0, \"#f0f921\"]], \"type\": \"surface\"}], \"table\": [{\"cells\": {\"fill\": {\"color\": \"#EBF0F8\"}, \"line\": {\"color\": \"white\"}}, \"header\": {\"fill\": {\"color\": \"#C8D4E3\"}, \"line\": {\"color\": \"white\"}}, \"type\": \"table\"}]}, \"layout\": {\"annotationdefaults\": {\"arrowcolor\": \"#2a3f5f\", \"arrowhead\": 0, \"arrowwidth\": 1}, \"coloraxis\": {\"colorbar\": {\"outlinewidth\": 0, \"ticks\": \"\"}}, \"colorscale\": {\"diverging\": [[0, \"#8e0152\"], [0.1, \"#c51b7d\"], [0.2, \"#de77ae\"], [0.3, \"#f1b6da\"], [0.4, \"#fde0ef\"], [0.5, \"#f7f7f7\"], [0.6, \"#e6f5d0\"], [0.7, \"#b8e186\"], [0.8, \"#7fbc41\"], [0.9, \"#4d9221\"], [1, \"#276419\"]], \"sequential\": [[0.0, \"#0d0887\"], [0.1111111111111111, \"#46039f\"], [0.2222222222222222, \"#7201a8\"], [0.3333333333333333, \"#9c179e\"], [0.4444444444444444, \"#bd3786\"], [0.5555555555555556, \"#d8576b\"], [0.6666666666666666, \"#ed7953\"], [0.7777777777777778, \"#fb9f3a\"], [0.8888888888888888, \"#fdca26\"], [1.0, \"#f0f921\"]], \"sequentialminus\": [[0.0, \"#0d0887\"], [0.1111111111111111, \"#46039f\"], [0.2222222222222222, \"#7201a8\"], [0.3333333333333333, \"#9c179e\"], [0.4444444444444444, \"#bd3786\"], [0.5555555555555556, \"#d8576b\"], [0.6666666666666666, \"#ed7953\"], [0.7777777777777778, \"#fb9f3a\"], [0.8888888888888888, \"#fdca26\"], [1.0, \"#f0f921\"]]}, \"colorway\": [\"#636efa\", \"#EF553B\", \"#00cc96\", \"#ab63fa\", \"#FFA15A\", \"#19d3f3\", \"#FF6692\", \"#B6E880\", \"#FF97FF\", \"#FECB52\"], \"font\": {\"color\": \"#2a3f5f\"}, \"geo\": {\"bgcolor\": \"white\", \"lakecolor\": \"white\", \"landcolor\": \"white\", \"showlakes\": true, \"showland\": true, \"subunitcolor\": \"#C8D4E3\"}, \"hoverlabel\": {\"align\": \"left\"}, \"hovermode\": \"closest\", \"mapbox\": {\"style\": \"light\"}, \"paper_bgcolor\": \"white\", \"plot_bgcolor\": \"white\", \"polar\": {\"angularaxis\": {\"gridcolor\": \"#EBF0F8\", \"linecolor\": \"#EBF0F8\", \"ticks\": \"\"}, \"bgcolor\": \"white\", \"radialaxis\": {\"gridcolor\": \"#EBF0F8\", \"linecolor\": \"#EBF0F8\", \"ticks\": \"\"}}, \"scene\": {\"xaxis\": {\"backgroundcolor\": \"white\", \"gridcolor\": \"#DFE8F3\", \"gridwidth\": 2, \"linecolor\": \"#EBF0F8\", \"showbackground\": true, \"ticks\": \"\", \"zerolinecolor\": \"#EBF0F8\"}, \"yaxis\": {\"backgroundcolor\": \"white\", \"gridcolor\": \"#DFE8F3\", \"gridwidth\": 2, \"linecolor\": \"#EBF0F8\", \"showbackground\": true, \"ticks\": \"\", \"zerolinecolor\": \"#EBF0F8\"}, \"zaxis\": {\"backgroundcolor\": \"white\", \"gridcolor\": \"#DFE8F3\", \"gridwidth\": 2, \"linecolor\": \"#EBF0F8\", \"showbackground\": true, \"ticks\": \"\", \"zerolinecolor\": \"#EBF0F8\"}}, \"shapedefaults\": {\"line\": {\"color\": \"#2a3f5f\"}}, \"ternary\": {\"aaxis\": {\"gridcolor\": \"#DFE8F3\", \"linecolor\": \"#A2B1C6\", \"ticks\": \"\"}, \"baxis\": {\"gridcolor\": \"#DFE8F3\", \"linecolor\": \"#A2B1C6\", \"ticks\": \"\"}, \"bgcolor\": \"white\", \"caxis\": {\"gridcolor\": \"#DFE8F3\", \"linecolor\": \"#A2B1C6\", \"ticks\": \"\"}}, \"title\": {\"x\": 0.05}, \"xaxis\": {\"automargin\": true, \"gridcolor\": \"#EBF0F8\", \"linecolor\": \"#EBF0F8\", \"ticks\": \"\", \"title\": {\"standoff\": 15}, \"zerolinecolor\": \"#EBF0F8\", \"zerolinewidth\": 2}, \"yaxis\": {\"automargin\": true, \"gridcolor\": \"#EBF0F8\", \"linecolor\": \"#EBF0F8\", \"ticks\": \"\", \"title\": {\"standoff\": 15}, \"zerolinecolor\": \"#EBF0F8\", \"zerolinewidth\": 2}}}, \"title\": {\"text\": \"Industry 4.0 Assesment Framework\"}, \"xaxis\": {\"range\": [0, 1.1], \"showgrid\": false, \"tickformat\": \",.0%\", \"title\": {\"text\": \"Evolutionary Technologies<br>(ET1, ET2a, ET3, ET4, ET5a, ET6a, ET8, ET9)\"}, \"zeroline\": false}, \"yaxis\": {\"range\": [0, 1.1], \"showgrid\": false, \"tickformat\": \",.0%\", \"title\": {\"text\": \"Revolutionary Technologies<br>(ET2b, ET5b, ET6b, ET7)\"}, \"zeroline\": false}},\n",
       "                        {\"displayModeBar\": true, \"toImageButtonOptions\": {\"format\": \"png\", \"filename\": \"industry_40_assessment\", \"height\": 900, \"width\": 1100, \"scale\": 1}, \"responsive\": true}\n",
       "                    ).then(function(){\n",
       "                            \n",
       "var gd = document.getElementById('ec34f4bb-02ff-4af9-86d5-f01a1775de43');\n",
       "var x = new MutationObserver(function (mutations, observer) {{\n",
       "        var display = window.getComputedStyle(gd).display;\n",
       "        if (!display || display === 'none') {{\n",
       "            console.log([gd, 'removed!']);\n",
       "            Plotly.purge(gd);\n",
       "            observer.disconnect();\n",
       "        }}\n",
       "}});\n",
       "\n",
       "// Listen for the removal of the full notebook cells\n",
       "var notebookContainer = gd.closest('#notebook-container');\n",
       "if (notebookContainer) {{\n",
       "    x.observe(notebookContainer, {childList: true});\n",
       "}}\n",
       "\n",
       "// Listen for the clearing of the current output cell\n",
       "var outputEl = gd.closest('.output');\n",
       "if (outputEl) {{\n",
       "    x.observe(outputEl, {childList: true});\n",
       "}}\n",
       "\n",
       "                        })\n",
       "                };\n",
       "                });\n",
       "            </script>\n",
       "        </div>"
      ]
     },
     "metadata": {},
     "output_type": "display_data"
    }
   ],
   "source": [
    "btn= widgets.Button(\n",
    "    description='Submit',\n",
    "    disabled=False,\n",
    "    button_style='', # 'success', 'info', 'warning', 'danger' or ''\n",
    "    tooltip='Click me',\n",
    "    icon='check' # (FontAwesome names without the `fa-` prefix)\n",
    ")\n",
    "display(btn)"
   ]
  },
  {
   "cell_type": "code",
   "execution_count": 354,
   "metadata": {},
   "outputs": [
    {
     "data": {
      "application/vnd.jupyter.widget-view+json": {
       "model_id": "7655af3a615142babd1ac55fa85479ab",
       "version_major": 2,
       "version_minor": 0
      },
      "text/plain": [
       "Textarea(value='Hello World', description='Enablers:', disabled=True, placeholder='Type something')"
      ]
     },
     "metadata": {},
     "output_type": "display_data"
    },
    {
     "data": {
      "application/vnd.jupyter.widget-view+json": {
       "model_id": "07adca9d2bc0478ea4176532a3b96c54",
       "version_major": 2,
       "version_minor": 0
      },
      "text/plain": [
       "Textarea(value='Hello World', description='Goals:', disabled=True, placeholder='Type something')"
      ]
     },
     "metadata": {},
     "output_type": "display_data"
    }
   ],
   "source": [
    "ta_enablers = widgets.Textarea(\n",
    "    value='Hello World',\n",
    "    placeholder='Type something',\n",
    "    description='Enablers:',\n",
    "    disabled=True\n",
    ")\n",
    "ta_goals = widgets.Textarea(\n",
    "    value='Hello World',\n",
    "    placeholder='Type something',\n",
    "    description='Goals:',\n",
    "    disabled=True\n",
    ")\n",
    "display(ta_enablers)\n",
    "display(ta_goals)"
   ]
  },
  {
   "cell_type": "code",
   "execution_count": 355,
   "metadata": {},
   "outputs": [],
   "source": [
    "def calculate_enablers_score():\n",
    "    ev_enablers_score=((rb1.value+rb2a.value+rb3.value+rb4.value+rb5a.value+rb6a.value+\n",
    "                        rb8.value+rb9.value)/max_ev_enablers_score)\n",
    "    rev_enablers_score=((rb2b.value+rb5b.value+rb6b.value+rb7.value)/max_rev_enablers_score)\n",
    "    ta_enablers.value=str(ev_enablers_score)+\",\"+str(rev_enablers_score)\n",
    "    return [ev_enablers_score, rev_enablers_score]\n",
    "def calculate_goals_score():\n",
    "    ev_goals_score=((rbg1.value+rbg2.value+rbg3.value+rbg4.value+rbg6.value+rbg8.value+rbg10.value+\n",
    "                     rbg11.value+rbg12.value+rbg13.value+rbg14.value)/max_ev_goals_score)\n",
    "    rev_goals_score=((rbg5.value+rbg7b.value+rbg9.value+rbg15.value)/max_rev_goals_score)\n",
    "    ta_goals.value=str(ev_goals_score)+\",\"+str(rev_goals_score)\n",
    "    return [ev_goals_score, rev_goals_score]\n",
    "def calculate_ext_barriers(goals_score):\n",
    "    eb1=((2*goals_score[0]+goals_score[1])/max_eb)*100\n",
    "    eb2=((goals_score[0]+goals_score[1])/max_eb)*100\n",
    "    eb3=((goals_score[0]+goals_score[1])/max_eb)*100\n",
    "    eb4=((goals_score[0]+goals_score[1])/max_eb)*100\n",
    "    eb5=((goals_score[0]+goals_score[1])/max_eb)*100\n",
    "    return [eb1, eb2, eb3, eb4, eb5]\n",
    "def calculate_int_barriers(goals_score):\n",
    "    ib1=((2*goals_score[0])/max_ib)*100\n",
    "    ib2=((2*goals_score[0])/max_ib)*100\n",
    "    ib3=((2*goals_score[0]+2*goals_score[1])/max_ib)*100\n",
    "    ib4=((2*goals_score[0])/max_ib)*100\n",
    "    ib5=((5*goals_score[0])/max_ib)*100\n",
    "    ib6=((2*goals_score[0]+2*goals_score[1])/max_ib)*100\n",
    "    ib7a=((2*goals_score[0])/max_ib)*100\n",
    "    ib7b=((2*goals_score[1])/max_ib)*100\n",
    "    ib8a_b=((2*goals_score[0])/max_ib)*100\n",
    "    ib9=((goals_score[0])/max_ib)*100\n",
    "    ib10=((2*goals_score[1])/max_ib)*100\n",
    "    ib11=((goals_score[1])/max_ib)*100\n",
    "    ib12a=((3*goals_score[1])/max_ib)*100\n",
    "    ib12b_c=((goals_score[0])/max_ib)*100\n",
    "    ib13=((goals_score[0]+goals_score[1])/max_ib)*100\n",
    "    ib14=((goals_score[0])/max_ib)*100\n",
    "    ib15=((goals_score[0])/max_ib)*100\n",
    "    ib16=((3*goals_score[1])/max_ib)*100\n",
    "    return [ib1, ib2, ib3, ib4, ib5, ib6, ib7a, ib7b, ib8a_b, ib9, ib10, ib11, ib12a, ib12b_c, ib13, ib14, ib15, ib16]"
   ]
  },
  {
   "cell_type": "code",
   "execution_count": 356,
   "metadata": {},
   "outputs": [],
   "source": [
    "def build_figure(enablers_score, goals_score, ext_barriers, int_barriers):\n",
    "    if enablers_score[0]==goals_score[0] and enablers_score[1]==goals_score[1]:\n",
    "        enablers_color=\"rgb(39,88,52)\"\n",
    "        goals_color=\"rgb(39,88,52)\"\n",
    "    else:\n",
    "        enablers_color=\"Black\"\n",
    "        goals_color=\"rgb(24,230,79)\"\n",
    "     \n",
    "    fig = go.Figure()\n",
    "    \n",
    "    config = {'displayModeBar': True,\n",
    "              'toImageButtonOptions': {'format': 'png', 'filename': 'industry_40_assessment',\n",
    "                                       'height': 900,'width': 1100,\n",
    "                                       'scale': 1}} # Multiply title/legend/axis/canvas sizes by this factor\n",
    "    \n",
    "    #Add horizontal and vertical lines in the middle of the graph and descriptions of the quadrants\n",
    "    fig.add_shape(dict(type=\"line\", x0=0.50, y0=0, x1=0.50, y1=1, line=dict(color=\"Gray\", width=3, dash=\"dashdot\",)))\n",
    "    fig.add_shape(type=\"line\", x0=0, y0=0.50, x1=1, y1=0.50, line=dict(color=\"Gray\", width=3, dash=\"dashdot\",))\n",
    "    fig.add_annotation(x=0.10, y=0.40, text=\"<b><i>Traditional<br>Manufacturing</i></b>\", showarrow=False, align=\"left\")\n",
    "    fig.add_annotation(x=0.60, y=0.40, text=\"<b><i>Digital<br>Manufacturing</i></b>\", showarrow=False, align=\"left\")\n",
    "    fig.add_annotation(x=0.09, y=0.90, text=\"<b><i>Digital<br>Servitization</i></b>\", showarrow=False, align=\"left\")\n",
    "    fig.add_annotation(x=0.60, y=0.90, text=\"<b><i>Fully Digital<br>Transformation</i></b>\", showarrow=False, align=\"left\")\n",
    "    \n",
    "    #Add countour lines\n",
    "    fig.add_shape(type=\"line\", x0=0, y0=0, x1=1, y1=0, line=dict(color=\"Black\", width=2.5))\n",
    "    fig.add_shape(type=\"line\", x0=0, y0=1, x1=1, y1=1, line=dict(color=\"Black\", width=1.5))\n",
    "    fig.add_shape(type=\"line\", x0=0, y0=0, x1=0, y1=1, line=dict(color=\"Black\", width=2.5))\n",
    "    fig.add_shape(type=\"line\", x0=1, y0=0, x1=1, y1=1, line=dict(color=\"Black\", width=1.5))\n",
    "    \n",
    "    #Add enablers and goals points with annotations\n",
    "    fig.add_shape(dict(type=\"circle\", xref=\"x\", yref=\"y\", fillcolor=enablers_color,\n",
    "                       x0=enablers_score[0]-0.01, y0=enablers_score[1]-0.01,\n",
    "                       x1=enablers_score[0]+0.01, y1=enablers_score[1]+0.03,\n",
    "                       line_color=enablers_color,))\n",
    "    fig.add_annotation(x=enablers_score[0], y=enablers_score[1], text=\"Enablers\")\n",
    "    fig.add_shape(dict(type=\"circle\", xref=\"x\", yref=\"y\", fillcolor=goals_color,\n",
    "                       x0=goals_score[0]-0.01, y0=goals_score[1]-0.01,\n",
    "                       x1=goals_score[0]+0.01, y1=goals_score[1]+0.03,\n",
    "                       line_color=goals_color,))\n",
    "    fig.add_annotation(x=goals_score[0], y=goals_score[1], text=\"Goals\")\n",
    "    fig.add_annotation(ax=enablers_score[0], ay=enablers_score[1], axref='x', ayref='y',\n",
    "                       x=goals_score[0], y=goals_score[1], xref=\"x\", yref=\"y\",\n",
    "        showarrow=True, arrowhead=2, arrowsize=1, arrowwidth=2, arrowcolor=\"Gray\", opacity=1)\n",
    "    \n",
    "    #Add external and internal barriers bars\n",
    "    fig.add_trace(go.Bar(x=[0.06, 0.10, 0.14, 0.18, 0.22],\n",
    "                         y=[ext_barriers[0], ext_barriers[1], ext_barriers[2], ext_barriers[3], ext_barriers[4]], \n",
    "                        marker_color=\"rgb(255,0,0)\", opacity=0.4, name=\"External Barriers\",\n",
    "                        hovertemplate='<b>%{text}</b><extra></extra>', text = ['EB1', 'EB2', 'EB3', 'EB4', 'EB5']))\n",
    "    fig.add_trace(go.Bar(x=[0.26, 0.30, 0.34, 0.38, 0.42, 0.46, 0.50, 0.54, 0.58, 0.62, 0.66, 0.70, 0.74,\n",
    "                            0.78, 0.82, 0.86, 0.90, 0.94],\n",
    "                         y=[int_barriers[0], int_barriers[1], int_barriers[2], int_barriers[3], int_barriers[4], \n",
    "                           int_barriers[5], int_barriers[6], int_barriers[7], int_barriers[8], int_barriers[9], \n",
    "                           int_barriers[10], int_barriers[11], int_barriers[12], int_barriers[13], int_barriers[14], \n",
    "                           int_barriers[15], int_barriers[16], int_barriers[17]], \n",
    "                        marker_color=\"rgb(120,30,30)\", opacity=0.4, name=\"Internal Barriers\",\n",
    "                        hovertemplate='<b>%{text}</b><extra></extra>',\n",
    "                         text = ['IB1', 'IB2', 'IB3', 'IB4', 'IB5', 'IB6', 'IB7(a)', 'IB7(b)', 'IB8(a,b)', 'IB9', 'IB10',\n",
    "                                'IB11', 'IB12(a)', 'IB12(b)', 'IB13', 'IB14', 'IB15', 'IB16']))\n",
    "    \n",
    "    #Finalize plot\n",
    "    fig.update_yaxes(tickformat=',.0%', range=[0, 1.1])\n",
    "    fig.update_xaxes(tickformat=',.0%', range=[0, 1.1])\n",
    "    fig.update_layout(title=\"Industry 4.0 Assesment Framework\",\n",
    "                      xaxis_title=\"Evolutionary Technologies<br>(ET1, ET2a, ET3, ET4, ET5a, ET6a, ET8, ET9)\",\n",
    "                      yaxis_title=\"Revolutionary Technologies<br>(ET2b, ET5b, ET6b, ET7)\",\n",
    "                      xaxis_showgrid=False, yaxis_showgrid=False,\n",
    "                     xaxis_zeroline=False, yaxis_zeroline=False)\n",
    "    fig.show(config=config)"
   ]
  },
  {
   "cell_type": "code",
   "execution_count": 357,
   "metadata": {},
   "outputs": [],
   "source": [
    "#def handle_submit(sender):\n",
    "#    ta.value = text.value\n",
    "#    return\n",
    "#text.on_submit(handle_submit)\n",
    "def on_button_clicked(b):\n",
    "    clear_output()\n",
    "    display(btn) #you have to display it again after clear_output for multiple interactions\n",
    "    enablers_score=calculate_enablers_score()\n",
    "    goals_score=calculate_goals_score()\n",
    "    ext_barriers=calculate_ext_barriers(goals_score)\n",
    "    int_barriers=calculate_int_barriers(goals_score)\n",
    "    build_figure(enablers_score, goals_score, ext_barriers, int_barriers)\n",
    "    \n",
    "    #ta_enablers.value = str(rb1.value)+\",\"+str(rb2a.value)+\",\"+str(rb2b.value)+\",\"+str(rb3.value)+\",\"+str(rb4.value)+\",\"+str(rb5a.value)+\",\"+str(rb5b.value)+\",\"+str(rb6a.value)+\",\"+str(rb6b.value)+\",\"+str(rb7.value)+\",\"+str(rb8.value)+\",\"+str(rb9.value)\n",
    "    #ta_goals.value = str(rbg1.value)+\",\"+str(rbg2.value)+\",\"+str(rbg3.value)+\",\"+str(rbg4.value)+\",\"+str(rbg5.value)+\",\"+str(rbg6.value)+\",\"+str(rbg7b.value)+\",\"+str(rbg8.value)+\",\"+str(rbg9.value)+\",\"+str(rbg10.value)+\",\"+str(rbg11.value)+\",\"+str(rbg12.value)+\",\"+str(rbg13.value)+\",\"+str(rbg14.value)+\",\"+str(rbg15.value)\n",
    "btn.on_click(on_button_clicked)"
   ]
  },
  {
   "cell_type": "code",
   "execution_count": 358,
   "metadata": {},
   "outputs": [
    {
     "data": {
      "text/html": [
       "<script>\n",
       "code_show=true; \n",
       "function code_toggle() {\n",
       " if (code_show){\n",
       " $('div.input').hide();\n",
       " } else {\n",
       " $('div.input').show();\n",
       " }\n",
       " code_show = !code_show\n",
       "} \n",
       "$( document ).ready(code_toggle);\n",
       "</script>\n",
       "<form action=\"javascript:code_toggle()\"><input type=\"submit\" value=\"Click here to toggle on/off the raw code.\"></form>"
      ],
      "text/plain": [
       "<IPython.core.display.HTML object>"
      ]
     },
     "execution_count": 358,
     "metadata": {},
     "output_type": "execute_result"
    }
   ],
   "source": [
    "from IPython.display import HTML\n",
    "\n",
    "HTML('''<script>\n",
    "code_show=true; \n",
    "function code_toggle() {\n",
    " if (code_show){\n",
    " $('div.input').hide();\n",
    " } else {\n",
    " $('div.input').show();\n",
    " }\n",
    " code_show = !code_show\n",
    "} \n",
    "$( document ).ready(code_toggle);\n",
    "</script>\n",
    "<form action=\"javascript:code_toggle()\"><input type=\"submit\" value=\"Click here to toggle on/off the raw code.\"></form>''')"
   ]
  },
  {
   "cell_type": "code",
   "execution_count": null,
   "metadata": {},
   "outputs": [],
   "source": []
  },
  {
   "cell_type": "code",
   "execution_count": null,
   "metadata": {},
   "outputs": [],
   "source": []
  }
 ],
 "metadata": {
  "kernelspec": {
   "display_name": "Python 3",
   "language": "python",
   "name": "python3"
  },
  "language_info": {
   "codemirror_mode": {
    "name": "ipython",
    "version": 3
   },
   "file_extension": ".py",
   "mimetype": "text/x-python",
   "name": "python",
   "nbconvert_exporter": "python",
   "pygments_lexer": "ipython3",
   "version": "3.7.7"
  },
  "widgets": {
   "application/vnd.jupyter.widget-state+json": {
    "state": {
     "038c0779cdf84797bf2d82626e16ab85": {
      "model_module": "@jupyter-widgets/base",
      "model_module_version": "1.2.0",
      "model_name": "LayoutModel",
      "state": {}
     },
     "06b5a813fb5041fa8d923b17a6bca23a": {
      "model_module": "@jupyter-widgets/output",
      "model_module_version": "1.0.0",
      "model_name": "OutputModel",
      "state": {
       "layout": "IPY_MODEL_e9b891e1016941b597e28445e1ed2592"
      }
     },
     "08045e546a1f4ac7b0bbea9eeb7d0cec": {
      "model_module": "@jupyter-widgets/controls",
      "model_module_version": "1.5.0",
      "model_name": "TextModel",
      "state": {
       "layout": "IPY_MODEL_a9e315036fa744d9a0fbb73912ba512f",
       "style": "IPY_MODEL_150f9d6baa76420790e7c6820dc4de78",
       "value": "wow"
      }
     },
     "09b821ee9c8546349adc817172bd968a": {
      "model_module": "@jupyter-widgets/controls",
      "model_module_version": "1.5.0",
      "model_name": "TextModel",
      "state": {
       "description": "sender",
       "layout": "IPY_MODEL_038c0779cdf84797bf2d82626e16ab85",
       "style": "IPY_MODEL_40863807fcc947f3a4792b40a5b8b1b1",
       "value": "hellou"
      }
     },
     "0dcb7ed18e5b41f2a4a2958137847f6e": {
      "model_module": "@jupyter-widgets/controls",
      "model_module_version": "1.5.0",
      "model_name": "VBoxModel",
      "state": {
       "_dom_classes": [
        "widget-interact"
       ],
       "children": [
        "IPY_MODEL_ad7b8936df304611bfb9bf2164298a52",
        "IPY_MODEL_268b7fa44ec74cf2bd03a5cdf8a5dbcb"
       ],
       "layout": "IPY_MODEL_10a6924aece64d45883c4cb353e1f3f1"
      }
     },
     "0e0a85f338ab401ea8518d49c01fdb5e": {
      "model_module": "@jupyter-widgets/base",
      "model_module_version": "1.2.0",
      "model_name": "LayoutModel",
      "state": {}
     },
     "0ebefd662ca34e95aea8055ab1cf7b0e": {
      "model_module": "@jupyter-widgets/controls",
      "model_module_version": "1.5.0",
      "model_name": "TextModel",
      "state": {
       "layout": "IPY_MODEL_332c96921f4e4fb7845e74cb797f5efc",
       "style": "IPY_MODEL_613fe4cf5b304baa85dcb2d57f10e4ce"
      }
     },
     "0f1403722e67426f80796c16d5e42b1e": {
      "model_module": "@jupyter-widgets/controls",
      "model_module_version": "1.5.0",
      "model_name": "DescriptionStyleModel",
      "state": {
       "description_width": ""
      }
     },
     "10a6924aece64d45883c4cb353e1f3f1": {
      "model_module": "@jupyter-widgets/base",
      "model_module_version": "1.2.0",
      "model_name": "LayoutModel",
      "state": {}
     },
     "150f9d6baa76420790e7c6820dc4de78": {
      "model_module": "@jupyter-widgets/controls",
      "model_module_version": "1.5.0",
      "model_name": "DescriptionStyleModel",
      "state": {
       "description_width": ""
      }
     },
     "16a235650cc345aa91656f52b8cc1564": {
      "model_module": "@jupyter-widgets/base",
      "model_module_version": "1.2.0",
      "model_name": "LayoutModel",
      "state": {}
     },
     "181667a16eb342778e2244b04a9dda39": {
      "model_module": "@jupyter-widgets/base",
      "model_module_version": "1.2.0",
      "model_name": "LayoutModel",
      "state": {}
     },
     "18c650bd42bf4933a51b306cce5d09a8": {
      "model_module": "@jupyter-widgets/controls",
      "model_module_version": "1.5.0",
      "model_name": "TextareaModel",
      "state": {
       "description": "String:",
       "disabled": true,
       "layout": "IPY_MODEL_4af81207a54e40929fb75aa364a40426",
       "placeholder": "Type something",
       "style": "IPY_MODEL_8264996798dc43a99d8451369fb02a83",
       "value": "tex"
      }
     },
     "1b39131faef1407795944223b4cdd9ae": {
      "model_module": "@jupyter-widgets/base",
      "model_module_version": "1.2.0",
      "model_name": "LayoutModel",
      "state": {}
     },
     "1cb6ccd3a8e54e4da85f9050cc7f39de": {
      "model_module": "@jupyter-widgets/base",
      "model_module_version": "1.2.0",
      "model_name": "LayoutModel",
      "state": {}
     },
     "1ef02c6e88f84bbb9073c3339352a144": {
      "model_module": "@jupyter-widgets/base",
      "model_module_version": "1.2.0",
      "model_name": "LayoutModel",
      "state": {}
     },
     "1f9ff2c25bf94b2e82a1ac46bef2b80e": {
      "model_module": "@jupyter-widgets/controls",
      "model_module_version": "1.5.0",
      "model_name": "DescriptionStyleModel",
      "state": {
       "description_width": ""
      }
     },
     "20ddb21fa21f46fc9fb1e0266860d5a4": {
      "model_module": "@jupyter-widgets/controls",
      "model_module_version": "1.5.0",
      "model_name": "VBoxModel",
      "state": {
       "_dom_classes": [
        "widget-interact"
       ],
       "children": [
        "IPY_MODEL_42df6c48ae5e479b99b9f9aaae285f3d",
        "IPY_MODEL_06b5a813fb5041fa8d923b17a6bca23a"
       ],
       "layout": "IPY_MODEL_1cb6ccd3a8e54e4da85f9050cc7f39de"
      }
     },
     "268b7fa44ec74cf2bd03a5cdf8a5dbcb": {
      "model_module": "@jupyter-widgets/output",
      "model_module_version": "1.0.0",
      "model_name": "OutputModel",
      "state": {
       "layout": "IPY_MODEL_6e4e75eef62e4c05a3e25043923db32b"
      }
     },
     "277d752d6bad4835bfe6d8fa04304691": {
      "model_module": "@jupyter-widgets/base",
      "model_module_version": "1.2.0",
      "model_name": "LayoutModel",
      "state": {}
     },
     "27e62c6e9ec74339afca0eeed70315c9": {
      "model_module": "@jupyter-widgets/controls",
      "model_module_version": "1.5.0",
      "model_name": "VBoxModel",
      "state": {
       "_dom_classes": [
        "widget-interact"
       ],
       "children": [
        "IPY_MODEL_d7acba803e4b4d978b6a40cf2f454608",
        "IPY_MODEL_bd5690b1198c4f26a8035d8e80c34bda"
       ],
       "layout": "IPY_MODEL_e8def1f583894d119020aa377f0b6322"
      }
     },
     "2f800a72e5984494bb3e463771fbf75a": {
      "model_module": "@jupyter-widgets/controls",
      "model_module_version": "1.5.0",
      "model_name": "TextareaModel",
      "state": {
       "description": "String:",
       "disabled": true,
       "layout": "IPY_MODEL_9842eb2883234df989ff2d1cfe516064",
       "placeholder": "Type something",
       "style": "IPY_MODEL_c94833bce3754a0ebe04a2f2ab3cd4c6",
       "value": "mamma"
      }
     },
     "332c96921f4e4fb7845e74cb797f5efc": {
      "model_module": "@jupyter-widgets/base",
      "model_module_version": "1.2.0",
      "model_name": "LayoutModel",
      "state": {}
     },
     "3352ba0b141a45b7a815112b6663f0fc": {
      "model_module": "@jupyter-widgets/base",
      "model_module_version": "1.2.0",
      "model_name": "LayoutModel",
      "state": {}
     },
     "33fcb7769f7a48d5b201187526628b57": {
      "model_module": "@jupyter-widgets/controls",
      "model_module_version": "1.5.0",
      "model_name": "VBoxModel",
      "state": {
       "_dom_classes": [
        "widget-interact"
       ],
       "children": [
        "IPY_MODEL_ad7b8936df304611bfb9bf2164298a52",
        "IPY_MODEL_e50dbdf51fa046d884efd3ebb03ea373"
       ],
       "layout": "IPY_MODEL_4b4f48af85864ff3a514311a56a967dd"
      }
     },
     "35f3555c33894b9ab164df5e4d4fbffb": {
      "model_module": "@jupyter-widgets/controls",
      "model_module_version": "1.5.0",
      "model_name": "DescriptionStyleModel",
      "state": {
       "description_width": ""
      }
     },
     "3a2d9a26de2545a1b021b4ee4e27a2ac": {
      "model_module": "@jupyter-widgets/controls",
      "model_module_version": "1.5.0",
      "model_name": "TextModel",
      "state": {
       "layout": "IPY_MODEL_7a92aa21e3684832b8a34c367dfebfb1",
       "style": "IPY_MODEL_807ac4d6b09d46cc9551c1effcbf4b5d"
      }
     },
     "3fb7c0fd8a004c03bd20bcd489178009": {
      "model_module": "@jupyter-widgets/output",
      "model_module_version": "1.0.0",
      "model_name": "OutputModel",
      "state": {
       "layout": "IPY_MODEL_f6de687a2a754c60874a720ed1fcabfe",
       "outputs": [
        {
         "ename": "NameError",
         "evalue": "name 'hm' is not defined",
         "output_type": "error",
         "traceback": [
          "\u001b[1;31m---------------------------------------------------------------------------\u001b[0m",
          "\u001b[1;31mNameError\u001b[0m                                 Traceback (most recent call last)",
          "\u001b[1;32m~\\Anaconda3\\lib\\site-packages\\ipywidgets\\widgets\\interaction.py\u001b[0m in \u001b[0;36mupdate\u001b[1;34m(self, *args)\u001b[0m\n\u001b[0;32m    254\u001b[0m                     \u001b[0mvalue\u001b[0m \u001b[1;33m=\u001b[0m \u001b[0mwidget\u001b[0m\u001b[1;33m.\u001b[0m\u001b[0mget_interact_value\u001b[0m\u001b[1;33m(\u001b[0m\u001b[1;33m)\u001b[0m\u001b[1;33m\u001b[0m\u001b[1;33m\u001b[0m\u001b[0m\n\u001b[0;32m    255\u001b[0m                     \u001b[0mself\u001b[0m\u001b[1;33m.\u001b[0m\u001b[0mkwargs\u001b[0m\u001b[1;33m[\u001b[0m\u001b[0mwidget\u001b[0m\u001b[1;33m.\u001b[0m\u001b[0m_kwarg\u001b[0m\u001b[1;33m]\u001b[0m \u001b[1;33m=\u001b[0m \u001b[0mvalue\u001b[0m\u001b[1;33m\u001b[0m\u001b[1;33m\u001b[0m\u001b[0m\n\u001b[1;32m--> 256\u001b[1;33m                 \u001b[0mself\u001b[0m\u001b[1;33m.\u001b[0m\u001b[0mresult\u001b[0m \u001b[1;33m=\u001b[0m \u001b[0mself\u001b[0m\u001b[1;33m.\u001b[0m\u001b[0mf\u001b[0m\u001b[1;33m(\u001b[0m\u001b[1;33m**\u001b[0m\u001b[0mself\u001b[0m\u001b[1;33m.\u001b[0m\u001b[0mkwargs\u001b[0m\u001b[1;33m)\u001b[0m\u001b[1;33m\u001b[0m\u001b[1;33m\u001b[0m\u001b[0m\n\u001b[0m\u001b[0;32m    257\u001b[0m                 \u001b[0mshow_inline_matplotlib_plots\u001b[0m\u001b[1;33m(\u001b[0m\u001b[1;33m)\u001b[0m\u001b[1;33m\u001b[0m\u001b[1;33m\u001b[0m\u001b[0m\n\u001b[0;32m    258\u001b[0m                 \u001b[1;32mif\u001b[0m \u001b[0mself\u001b[0m\u001b[1;33m.\u001b[0m\u001b[0mauto_display\u001b[0m \u001b[1;32mand\u001b[0m \u001b[0mself\u001b[0m\u001b[1;33m.\u001b[0m\u001b[0mresult\u001b[0m \u001b[1;32mis\u001b[0m \u001b[1;32mnot\u001b[0m \u001b[1;32mNone\u001b[0m\u001b[1;33m:\u001b[0m\u001b[1;33m\u001b[0m\u001b[1;33m\u001b[0m\u001b[0m\n",
          "\u001b[1;32m<ipython-input-5-37f47bd80b6d>\u001b[0m in \u001b[0;36mhandle_submit\u001b[1;34m(sender)\u001b[0m\n\u001b[0;32m      1\u001b[0m \u001b[1;32mdef\u001b[0m \u001b[0mhandle_submit\u001b[0m\u001b[1;33m(\u001b[0m\u001b[0msender\u001b[0m\u001b[1;33m)\u001b[0m\u001b[1;33m:\u001b[0m\u001b[1;33m\u001b[0m\u001b[1;33m\u001b[0m\u001b[0m\n\u001b[0;32m      2\u001b[0m     \u001b[0mta\u001b[0m\u001b[1;33m.\u001b[0m\u001b[0mvalue\u001b[0m \u001b[1;33m=\u001b[0m \u001b[0mtext\u001b[0m\u001b[1;33m.\u001b[0m\u001b[0mvalue\u001b[0m\u001b[1;33m\u001b[0m\u001b[1;33m\u001b[0m\u001b[0m\n\u001b[1;32m----> 3\u001b[1;33m     \u001b[0mhm\u001b[0m\u001b[1;33m.\u001b[0m\u001b[0mvalue\u001b[0m \u001b[1;33m=\u001b[0m \u001b[0mtext\u001b[0m\u001b[1;33m.\u001b[0m\u001b[0mvalue\u001b[0m\u001b[1;33m\u001b[0m\u001b[1;33m\u001b[0m\u001b[0m\n\u001b[0m\u001b[0;32m      4\u001b[0m \u001b[0mtext\u001b[0m\u001b[1;33m.\u001b[0m\u001b[0mon_submit\u001b[0m\u001b[1;33m(\u001b[0m\u001b[0mhandle_submit\u001b[0m\u001b[1;33m)\u001b[0m\u001b[1;33m\u001b[0m\u001b[1;33m\u001b[0m\u001b[0m\n",
          "\u001b[1;31mNameError\u001b[0m: name 'hm' is not defined"
         ]
        }
       ]
      }
     },
     "40863807fcc947f3a4792b40a5b8b1b1": {
      "model_module": "@jupyter-widgets/controls",
      "model_module_version": "1.5.0",
      "model_name": "DescriptionStyleModel",
      "state": {
       "description_width": ""
      }
     },
     "40f5b07969f54ff3bd566cd12d6d6ee2": {
      "model_module": "@jupyter-widgets/controls",
      "model_module_version": "1.5.0",
      "model_name": "TextareaModel",
      "state": {
       "description": "String:",
       "disabled": true,
       "layout": "IPY_MODEL_86503f4549234e509512f22da7c191ca",
       "placeholder": "Type something",
       "style": "IPY_MODEL_b0c6cbad9d46417aa8d21cb2b17cff21",
       "value": "Hello World"
      }
     },
     "42df6c48ae5e479b99b9f9aaae285f3d": {
      "model_module": "@jupyter-widgets/controls",
      "model_module_version": "1.5.0",
      "model_name": "TextareaModel",
      "state": {
       "description": "String:",
       "disabled": true,
       "layout": "IPY_MODEL_bb48f6cca2a1481ea4dfd229af4b7def",
       "placeholder": "Type something",
       "style": "IPY_MODEL_1f9ff2c25bf94b2e82a1ac46bef2b80e",
       "value": "hellou"
      }
     },
     "465ad9bcf2044a0ebee128ae6ade03b4": {
      "model_module": "@jupyter-widgets/controls",
      "model_module_version": "1.5.0",
      "model_name": "DescriptionStyleModel",
      "state": {
       "description_width": ""
      }
     },
     "4925da5e9ed5428f94a0dfbd9eeb775a": {
      "model_module": "@jupyter-widgets/controls",
      "model_module_version": "1.5.0",
      "model_name": "DescriptionStyleModel",
      "state": {
       "description_width": ""
      }
     },
     "49cb80bb57b4408992a50469b92f70e1": {
      "model_module": "@jupyter-widgets/base",
      "model_module_version": "1.2.0",
      "model_name": "LayoutModel",
      "state": {}
     },
     "4af81207a54e40929fb75aa364a40426": {
      "model_module": "@jupyter-widgets/base",
      "model_module_version": "1.2.0",
      "model_name": "LayoutModel",
      "state": {}
     },
     "4b4f48af85864ff3a514311a56a967dd": {
      "model_module": "@jupyter-widgets/base",
      "model_module_version": "1.2.0",
      "model_name": "LayoutModel",
      "state": {}
     },
     "5390308090b241038c7d9b03bc91ea81": {
      "model_module": "@jupyter-widgets/controls",
      "model_module_version": "1.5.0",
      "model_name": "VBoxModel",
      "state": {
       "_dom_classes": [
        "widget-interact"
       ],
       "children": [
        "IPY_MODEL_09b821ee9c8546349adc817172bd968a",
        "IPY_MODEL_fd907efd9332460ba8222abd6cee4e54"
       ],
       "layout": "IPY_MODEL_72a52931695144f39e5123f36918a271"
      }
     },
     "5a403989b06349f58093583dd407420a": {
      "model_module": "@jupyter-widgets/controls",
      "model_module_version": "1.5.0",
      "model_name": "VBoxModel",
      "state": {
       "_dom_classes": [
        "widget-interact"
       ],
       "children": [
        "IPY_MODEL_ad7b8936df304611bfb9bf2164298a52",
        "IPY_MODEL_3fb7c0fd8a004c03bd20bcd489178009"
       ],
       "layout": "IPY_MODEL_49cb80bb57b4408992a50469b92f70e1"
      }
     },
     "5f6cb90d61a04394ad09c7bd7dce5380": {
      "model_module": "@jupyter-widgets/controls",
      "model_module_version": "1.5.0",
      "model_name": "DescriptionStyleModel",
      "state": {
       "description_width": ""
      }
     },
     "613fe4cf5b304baa85dcb2d57f10e4ce": {
      "model_module": "@jupyter-widgets/controls",
      "model_module_version": "1.5.0",
      "model_name": "DescriptionStyleModel",
      "state": {
       "description_width": ""
      }
     },
     "68209f7392cb4c06a7b259425280b1d9": {
      "model_module": "@jupyter-widgets/controls",
      "model_module_version": "1.5.0",
      "model_name": "TextareaModel",
      "state": {
       "description": "String:",
       "disabled": true,
       "layout": "IPY_MODEL_8914bd00627a4f4180c9ccd54e20baa2",
       "placeholder": "Type something",
       "style": "IPY_MODEL_465ad9bcf2044a0ebee128ae6ade03b4",
       "value": "Hello World"
      }
     },
     "6c6c10657e6246c5b9ce8562817d2bdd": {
      "model_module": "@jupyter-widgets/controls",
      "model_module_version": "1.5.0",
      "model_name": "TextModel",
      "state": {
       "layout": "IPY_MODEL_1b39131faef1407795944223b4cdd9ae",
       "style": "IPY_MODEL_8c2475410109492fabf09ba5e1dc46fe",
       "value": "mamma"
      }
     },
     "6e4e75eef62e4c05a3e25043923db32b": {
      "model_module": "@jupyter-widgets/base",
      "model_module_version": "1.2.0",
      "model_name": "LayoutModel",
      "state": {}
     },
     "72a52931695144f39e5123f36918a271": {
      "model_module": "@jupyter-widgets/base",
      "model_module_version": "1.2.0",
      "model_name": "LayoutModel",
      "state": {}
     },
     "7a92aa21e3684832b8a34c367dfebfb1": {
      "model_module": "@jupyter-widgets/base",
      "model_module_version": "1.2.0",
      "model_name": "LayoutModel",
      "state": {}
     },
     "807ac4d6b09d46cc9551c1effcbf4b5d": {
      "model_module": "@jupyter-widgets/controls",
      "model_module_version": "1.5.0",
      "model_name": "DescriptionStyleModel",
      "state": {
       "description_width": ""
      }
     },
     "8264996798dc43a99d8451369fb02a83": {
      "model_module": "@jupyter-widgets/controls",
      "model_module_version": "1.5.0",
      "model_name": "DescriptionStyleModel",
      "state": {
       "description_width": ""
      }
     },
     "86503f4549234e509512f22da7c191ca": {
      "model_module": "@jupyter-widgets/base",
      "model_module_version": "1.2.0",
      "model_name": "LayoutModel",
      "state": {}
     },
     "8914bd00627a4f4180c9ccd54e20baa2": {
      "model_module": "@jupyter-widgets/base",
      "model_module_version": "1.2.0",
      "model_name": "LayoutModel",
      "state": {}
     },
     "8c2475410109492fabf09ba5e1dc46fe": {
      "model_module": "@jupyter-widgets/controls",
      "model_module_version": "1.5.0",
      "model_name": "DescriptionStyleModel",
      "state": {
       "description_width": ""
      }
     },
     "9353d3ed22944905877af9bc217f7a78": {
      "model_module": "@jupyter-widgets/controls",
      "model_module_version": "1.5.0",
      "model_name": "TextModel",
      "state": {
       "description": "sender",
       "layout": "IPY_MODEL_ae66aecab7604d65985e4cefe5d88066",
       "style": "IPY_MODEL_0f1403722e67426f80796c16d5e42b1e",
       "value": "hello"
      }
     },
     "9842eb2883234df989ff2d1cfe516064": {
      "model_module": "@jupyter-widgets/base",
      "model_module_version": "1.2.0",
      "model_name": "LayoutModel",
      "state": {}
     },
     "9853141611d94bf6b16b8d9dcaace6a2": {
      "model_module": "@jupyter-widgets/output",
      "model_module_version": "1.0.0",
      "model_name": "OutputModel",
      "state": {
       "layout": "IPY_MODEL_fbe17b27b8d949a7a747b963a86589d2"
      }
     },
     "993738f0fcc64479a699cc191d86f487": {
      "model_module": "@jupyter-widgets/base",
      "model_module_version": "1.2.0",
      "model_name": "LayoutModel",
      "state": {}
     },
     "999c250bafe5497a99006fbff4a0bfa6": {
      "model_module": "@jupyter-widgets/controls",
      "model_module_version": "1.5.0",
      "model_name": "TextModel",
      "state": {
       "layout": "IPY_MODEL_16a235650cc345aa91656f52b8cc1564",
       "style": "IPY_MODEL_4925da5e9ed5428f94a0dfbd9eeb775a"
      }
     },
     "99d7a3493aba4b71ae4d4e5352b9e334": {
      "model_module": "@jupyter-widgets/base",
      "model_module_version": "1.2.0",
      "model_name": "LayoutModel",
      "state": {}
     },
     "a014c0c311a04304832c5d39c00c1f93": {
      "model_module": "@jupyter-widgets/controls",
      "model_module_version": "1.5.0",
      "model_name": "VBoxModel",
      "state": {
       "_dom_classes": [
        "widget-interact"
       ],
       "layout": "IPY_MODEL_3352ba0b141a45b7a815112b6663f0fc"
      }
     },
     "a5eb1970e67440cdbcdd2189bd740b58": {
      "model_module": "@jupyter-widgets/base",
      "model_module_version": "1.2.0",
      "model_name": "LayoutModel",
      "state": {}
     },
     "a679e8a1ddb84b91b02919334d348a1a": {
      "model_module": "@jupyter-widgets/controls",
      "model_module_version": "1.5.0",
      "model_name": "TextareaModel",
      "state": {
       "description": "String:",
       "disabled": true,
       "layout": "IPY_MODEL_993738f0fcc64479a699cc191d86f487",
       "placeholder": "Type something",
       "style": "IPY_MODEL_c4069a33324b4d5f8ad1f38e959eeacf",
       "value": "wowwwww"
      }
     },
     "a85d15dd96514ab7aba611c5cef5f4c4": {
      "model_module": "@jupyter-widgets/controls",
      "model_module_version": "1.5.0",
      "model_name": "TextareaModel",
      "state": {
       "description": "String:",
       "disabled": true,
       "layout": "IPY_MODEL_277d752d6bad4835bfe6d8fa04304691",
       "placeholder": "Type something",
       "style": "IPY_MODEL_5f6cb90d61a04394ad09c7bd7dce5380",
       "value": "Hello World"
      }
     },
     "a9e315036fa744d9a0fbb73912ba512f": {
      "model_module": "@jupyter-widgets/base",
      "model_module_version": "1.2.0",
      "model_name": "LayoutModel",
      "state": {}
     },
     "ad7b8936df304611bfb9bf2164298a52": {
      "model_module": "@jupyter-widgets/controls",
      "model_module_version": "1.5.0",
      "model_name": "TextModel",
      "state": {
       "description": "sender",
       "layout": "IPY_MODEL_f5c7e393cf8148e890e7cffbeb30acec",
       "style": "IPY_MODEL_b77290f6738d4645b1a8f73bef5f24a1",
       "value": "tex"
      }
     },
     "ae1da51921ed4a7cab38143692e1afab": {
      "model_module": "@jupyter-widgets/controls",
      "model_module_version": "1.5.0",
      "model_name": "TextareaModel",
      "state": {
       "description": "String:",
       "disabled": true,
       "layout": "IPY_MODEL_caabdab52a5e4a63811d71f8be05e4fd",
       "placeholder": "Type something",
       "style": "IPY_MODEL_d041720f4360418f8605acc4b77790f0",
       "value": "hello"
      }
     },
     "ae66aecab7604d65985e4cefe5d88066": {
      "model_module": "@jupyter-widgets/base",
      "model_module_version": "1.2.0",
      "model_name": "LayoutModel",
      "state": {}
     },
     "b0c6cbad9d46417aa8d21cb2b17cff21": {
      "model_module": "@jupyter-widgets/controls",
      "model_module_version": "1.5.0",
      "model_name": "DescriptionStyleModel",
      "state": {
       "description_width": ""
      }
     },
     "b77290f6738d4645b1a8f73bef5f24a1": {
      "model_module": "@jupyter-widgets/controls",
      "model_module_version": "1.5.0",
      "model_name": "DescriptionStyleModel",
      "state": {
       "description_width": ""
      }
     },
     "bb48f6cca2a1481ea4dfd229af4b7def": {
      "model_module": "@jupyter-widgets/base",
      "model_module_version": "1.2.0",
      "model_name": "LayoutModel",
      "state": {}
     },
     "bd5690b1198c4f26a8035d8e80c34bda": {
      "model_module": "@jupyter-widgets/output",
      "model_module_version": "1.0.0",
      "model_name": "OutputModel",
      "state": {
       "layout": "IPY_MODEL_e030bfe1c16f48e38533f9fc66b05f3e",
       "outputs": [
        {
         "ename": "AttributeError",
         "evalue": "'str' object has no attribute 'value'",
         "output_type": "error",
         "traceback": [
          "\u001b[1;31m---------------------------------------------------------------------------\u001b[0m",
          "\u001b[1;31mAttributeError\u001b[0m                            Traceback (most recent call last)",
          "\u001b[1;32m~\\Anaconda3\\lib\\site-packages\\ipywidgets\\widgets\\interaction.py\u001b[0m in \u001b[0;36mupdate\u001b[1;34m(self, *args)\u001b[0m\n\u001b[0;32m    254\u001b[0m                     \u001b[0mvalue\u001b[0m \u001b[1;33m=\u001b[0m \u001b[0mwidget\u001b[0m\u001b[1;33m.\u001b[0m\u001b[0mget_interact_value\u001b[0m\u001b[1;33m(\u001b[0m\u001b[1;33m)\u001b[0m\u001b[1;33m\u001b[0m\u001b[1;33m\u001b[0m\u001b[0m\n\u001b[0;32m    255\u001b[0m                     \u001b[0mself\u001b[0m\u001b[1;33m.\u001b[0m\u001b[0mkwargs\u001b[0m\u001b[1;33m[\u001b[0m\u001b[0mwidget\u001b[0m\u001b[1;33m.\u001b[0m\u001b[0m_kwarg\u001b[0m\u001b[1;33m]\u001b[0m \u001b[1;33m=\u001b[0m \u001b[0mvalue\u001b[0m\u001b[1;33m\u001b[0m\u001b[1;33m\u001b[0m\u001b[0m\n\u001b[1;32m--> 256\u001b[1;33m                 \u001b[0mself\u001b[0m\u001b[1;33m.\u001b[0m\u001b[0mresult\u001b[0m \u001b[1;33m=\u001b[0m \u001b[0mself\u001b[0m\u001b[1;33m.\u001b[0m\u001b[0mf\u001b[0m\u001b[1;33m(\u001b[0m\u001b[1;33m**\u001b[0m\u001b[0mself\u001b[0m\u001b[1;33m.\u001b[0m\u001b[0mkwargs\u001b[0m\u001b[1;33m)\u001b[0m\u001b[1;33m\u001b[0m\u001b[1;33m\u001b[0m\u001b[0m\n\u001b[0m\u001b[0;32m    257\u001b[0m                 \u001b[0mshow_inline_matplotlib_plots\u001b[0m\u001b[1;33m(\u001b[0m\u001b[1;33m)\u001b[0m\u001b[1;33m\u001b[0m\u001b[1;33m\u001b[0m\u001b[0m\n\u001b[0;32m    258\u001b[0m                 \u001b[1;32mif\u001b[0m \u001b[0mself\u001b[0m\u001b[1;33m.\u001b[0m\u001b[0mauto_display\u001b[0m \u001b[1;32mand\u001b[0m \u001b[0mself\u001b[0m\u001b[1;33m.\u001b[0m\u001b[0mresult\u001b[0m \u001b[1;32mis\u001b[0m \u001b[1;32mnot\u001b[0m \u001b[1;32mNone\u001b[0m\u001b[1;33m:\u001b[0m\u001b[1;33m\u001b[0m\u001b[1;33m\u001b[0m\u001b[0m\n",
          "\u001b[1;32m<ipython-input-34-c5472178d9a2>\u001b[0m in \u001b[0;36mhandle_submit\u001b[1;34m(sender)\u001b[0m\n\u001b[0;32m      1\u001b[0m \u001b[1;32mdef\u001b[0m \u001b[0mhandle_submit\u001b[0m\u001b[1;33m(\u001b[0m\u001b[0msender\u001b[0m\u001b[1;33m)\u001b[0m\u001b[1;33m:\u001b[0m\u001b[1;33m\u001b[0m\u001b[1;33m\u001b[0m\u001b[0m\n\u001b[1;32m----> 2\u001b[1;33m     \u001b[0mta\u001b[0m\u001b[1;33m.\u001b[0m\u001b[0mvalue\u001b[0m \u001b[1;33m=\u001b[0m \u001b[0msender\u001b[0m\u001b[1;33m.\u001b[0m\u001b[0mvalue\u001b[0m\u001b[1;33m\u001b[0m\u001b[1;33m\u001b[0m\u001b[0m\n\u001b[0m\u001b[0;32m      3\u001b[0m \u001b[0mtext\u001b[0m\u001b[1;33m.\u001b[0m\u001b[0mon_submit\u001b[0m\u001b[1;33m(\u001b[0m\u001b[0mhandle_submit\u001b[0m\u001b[1;33m)\u001b[0m\u001b[1;33m\u001b[0m\u001b[1;33m\u001b[0m\u001b[0m\n",
          "\u001b[1;31mAttributeError\u001b[0m: 'str' object has no attribute 'value'"
         ]
        }
       ]
      }
     },
     "bfc256f8c1e94233940732f42c4d7617": {
      "model_module": "@jupyter-widgets/controls",
      "model_module_version": "1.5.0",
      "model_name": "DescriptionStyleModel",
      "state": {
       "description_width": ""
      }
     },
     "c4069a33324b4d5f8ad1f38e959eeacf": {
      "model_module": "@jupyter-widgets/controls",
      "model_module_version": "1.5.0",
      "model_name": "DescriptionStyleModel",
      "state": {
       "description_width": ""
      }
     },
     "c59a1b7e9c7c4b53bc3d96523c75e3b8": {
      "model_module": "@jupyter-widgets/controls",
      "model_module_version": "1.5.0",
      "model_name": "TextareaModel",
      "state": {
       "description": "String:",
       "disabled": true,
       "layout": "IPY_MODEL_99d7a3493aba4b71ae4d4e5352b9e334",
       "placeholder": "Type something",
       "style": "IPY_MODEL_35f3555c33894b9ab164df5e4d4fbffb",
       "value": "wow"
      }
     },
     "c94833bce3754a0ebe04a2f2ab3cd4c6": {
      "model_module": "@jupyter-widgets/controls",
      "model_module_version": "1.5.0",
      "model_name": "DescriptionStyleModel",
      "state": {
       "description_width": ""
      }
     },
     "caabdab52a5e4a63811d71f8be05e4fd": {
      "model_module": "@jupyter-widgets/base",
      "model_module_version": "1.2.0",
      "model_name": "LayoutModel",
      "state": {}
     },
     "d041720f4360418f8605acc4b77790f0": {
      "model_module": "@jupyter-widgets/controls",
      "model_module_version": "1.5.0",
      "model_name": "DescriptionStyleModel",
      "state": {
       "description_width": ""
      }
     },
     "d7acba803e4b4d978b6a40cf2f454608": {
      "model_module": "@jupyter-widgets/controls",
      "model_module_version": "1.5.0",
      "model_name": "TextModel",
      "state": {
       "description": "sender",
       "layout": "IPY_MODEL_181667a16eb342778e2244b04a9dda39",
       "style": "IPY_MODEL_bfc256f8c1e94233940732f42c4d7617",
       "value": "wowwwww"
      }
     },
     "db274e733fc84e5ea056f723229b7d0c": {
      "model_module": "@jupyter-widgets/base",
      "model_module_version": "1.2.0",
      "model_name": "LayoutModel",
      "state": {}
     },
     "e030bfe1c16f48e38533f9fc66b05f3e": {
      "model_module": "@jupyter-widgets/base",
      "model_module_version": "1.2.0",
      "model_name": "LayoutModel",
      "state": {}
     },
     "e4064d4f360d47e5a91a7ac6b688a82d": {
      "model_module": "@jupyter-widgets/controls",
      "model_module_version": "1.5.0",
      "model_name": "VBoxModel",
      "state": {
       "_dom_classes": [
        "widget-interact"
       ],
       "children": [
        "IPY_MODEL_9353d3ed22944905877af9bc217f7a78",
        "IPY_MODEL_9853141611d94bf6b16b8d9dcaace6a2"
       ],
       "layout": "IPY_MODEL_db274e733fc84e5ea056f723229b7d0c"
      }
     },
     "e50dbdf51fa046d884efd3ebb03ea373": {
      "model_module": "@jupyter-widgets/output",
      "model_module_version": "1.0.0",
      "model_name": "OutputModel",
      "state": {
       "layout": "IPY_MODEL_a5eb1970e67440cdbcdd2189bd740b58",
       "outputs": [
        {
         "ename": "NameError",
         "evalue": "name 'hm' is not defined",
         "output_type": "error",
         "traceback": [
          "\u001b[1;31m---------------------------------------------------------------------------\u001b[0m",
          "\u001b[1;31mNameError\u001b[0m                                 Traceback (most recent call last)",
          "\u001b[1;32m~\\Anaconda3\\lib\\site-packages\\ipywidgets\\widgets\\interaction.py\u001b[0m in \u001b[0;36mupdate\u001b[1;34m(self, *args)\u001b[0m\n\u001b[0;32m    254\u001b[0m                     \u001b[0mvalue\u001b[0m \u001b[1;33m=\u001b[0m \u001b[0mwidget\u001b[0m\u001b[1;33m.\u001b[0m\u001b[0mget_interact_value\u001b[0m\u001b[1;33m(\u001b[0m\u001b[1;33m)\u001b[0m\u001b[1;33m\u001b[0m\u001b[1;33m\u001b[0m\u001b[0m\n\u001b[0;32m    255\u001b[0m                     \u001b[0mself\u001b[0m\u001b[1;33m.\u001b[0m\u001b[0mkwargs\u001b[0m\u001b[1;33m[\u001b[0m\u001b[0mwidget\u001b[0m\u001b[1;33m.\u001b[0m\u001b[0m_kwarg\u001b[0m\u001b[1;33m]\u001b[0m \u001b[1;33m=\u001b[0m \u001b[0mvalue\u001b[0m\u001b[1;33m\u001b[0m\u001b[1;33m\u001b[0m\u001b[0m\n\u001b[1;32m--> 256\u001b[1;33m                 \u001b[0mself\u001b[0m\u001b[1;33m.\u001b[0m\u001b[0mresult\u001b[0m \u001b[1;33m=\u001b[0m \u001b[0mself\u001b[0m\u001b[1;33m.\u001b[0m\u001b[0mf\u001b[0m\u001b[1;33m(\u001b[0m\u001b[1;33m**\u001b[0m\u001b[0mself\u001b[0m\u001b[1;33m.\u001b[0m\u001b[0mkwargs\u001b[0m\u001b[1;33m)\u001b[0m\u001b[1;33m\u001b[0m\u001b[1;33m\u001b[0m\u001b[0m\n\u001b[0m\u001b[0;32m    257\u001b[0m                 \u001b[0mshow_inline_matplotlib_plots\u001b[0m\u001b[1;33m(\u001b[0m\u001b[1;33m)\u001b[0m\u001b[1;33m\u001b[0m\u001b[1;33m\u001b[0m\u001b[0m\n\u001b[0;32m    258\u001b[0m                 \u001b[1;32mif\u001b[0m \u001b[0mself\u001b[0m\u001b[1;33m.\u001b[0m\u001b[0mauto_display\u001b[0m \u001b[1;32mand\u001b[0m \u001b[0mself\u001b[0m\u001b[1;33m.\u001b[0m\u001b[0mresult\u001b[0m \u001b[1;32mis\u001b[0m \u001b[1;32mnot\u001b[0m \u001b[1;32mNone\u001b[0m\u001b[1;33m:\u001b[0m\u001b[1;33m\u001b[0m\u001b[1;33m\u001b[0m\u001b[0m\n",
          "\u001b[1;32m<ipython-input-5-37f47bd80b6d>\u001b[0m in \u001b[0;36mhandle_submit\u001b[1;34m(sender)\u001b[0m\n\u001b[0;32m      1\u001b[0m \u001b[1;32mdef\u001b[0m \u001b[0mhandle_submit\u001b[0m\u001b[1;33m(\u001b[0m\u001b[0msender\u001b[0m\u001b[1;33m)\u001b[0m\u001b[1;33m:\u001b[0m\u001b[1;33m\u001b[0m\u001b[1;33m\u001b[0m\u001b[0m\n\u001b[0;32m      2\u001b[0m     \u001b[0mta\u001b[0m\u001b[1;33m.\u001b[0m\u001b[0mvalue\u001b[0m \u001b[1;33m=\u001b[0m \u001b[0mtext\u001b[0m\u001b[1;33m.\u001b[0m\u001b[0mvalue\u001b[0m\u001b[1;33m\u001b[0m\u001b[1;33m\u001b[0m\u001b[0m\n\u001b[1;32m----> 3\u001b[1;33m     \u001b[0mhm\u001b[0m\u001b[1;33m.\u001b[0m\u001b[0mvalue\u001b[0m \u001b[1;33m=\u001b[0m \u001b[0mtext\u001b[0m\u001b[1;33m.\u001b[0m\u001b[0mvalue\u001b[0m\u001b[1;33m\u001b[0m\u001b[1;33m\u001b[0m\u001b[0m\n\u001b[0m\u001b[0;32m      4\u001b[0m \u001b[0mtext\u001b[0m\u001b[1;33m.\u001b[0m\u001b[0mon_submit\u001b[0m\u001b[1;33m(\u001b[0m\u001b[0mhandle_submit\u001b[0m\u001b[1;33m)\u001b[0m\u001b[1;33m\u001b[0m\u001b[1;33m\u001b[0m\u001b[0m\n",
          "\u001b[1;31mNameError\u001b[0m: name 'hm' is not defined"
         ]
        }
       ]
      }
     },
     "e8def1f583894d119020aa377f0b6322": {
      "model_module": "@jupyter-widgets/base",
      "model_module_version": "1.2.0",
      "model_name": "LayoutModel",
      "state": {}
     },
     "e9b891e1016941b597e28445e1ed2592": {
      "model_module": "@jupyter-widgets/base",
      "model_module_version": "1.2.0",
      "model_name": "LayoutModel",
      "state": {}
     },
     "ebf425871eb1402eaf8d10db234986bb": {
      "model_module": "@jupyter-widgets/base",
      "model_module_version": "1.2.0",
      "model_name": "LayoutModel",
      "state": {}
     },
     "f5c7e393cf8148e890e7cffbeb30acec": {
      "model_module": "@jupyter-widgets/base",
      "model_module_version": "1.2.0",
      "model_name": "LayoutModel",
      "state": {}
     },
     "f6de687a2a754c60874a720ed1fcabfe": {
      "model_module": "@jupyter-widgets/base",
      "model_module_version": "1.2.0",
      "model_name": "LayoutModel",
      "state": {}
     },
     "f89ac224135a48f4b854112b4ba0cd86": {
      "model_module": "@jupyter-widgets/output",
      "model_module_version": "1.0.0",
      "model_name": "OutputModel",
      "state": {
       "layout": "IPY_MODEL_ebf425871eb1402eaf8d10db234986bb"
      }
     },
     "fbe17b27b8d949a7a747b963a86589d2": {
      "model_module": "@jupyter-widgets/base",
      "model_module_version": "1.2.0",
      "model_name": "LayoutModel",
      "state": {}
     },
     "fd907efd9332460ba8222abd6cee4e54": {
      "model_module": "@jupyter-widgets/output",
      "model_module_version": "1.0.0",
      "model_name": "OutputModel",
      "state": {
       "layout": "IPY_MODEL_1ef02c6e88f84bbb9073c3339352a144"
      }
     },
     "fe82ad06e31b4358b8433157d0f47f6b": {
      "model_module": "@jupyter-widgets/controls",
      "model_module_version": "1.5.0",
      "model_name": "VBoxModel",
      "state": {
       "_dom_classes": [
        "widget-interact"
       ],
       "children": [
        "IPY_MODEL_d7acba803e4b4d978b6a40cf2f454608",
        "IPY_MODEL_f89ac224135a48f4b854112b4ba0cd86"
       ],
       "layout": "IPY_MODEL_0e0a85f338ab401ea8518d49c01fdb5e"
      }
     }
    },
    "version_major": 2,
    "version_minor": 0
   }
  }
 },
 "nbformat": 4,
 "nbformat_minor": 4
}
